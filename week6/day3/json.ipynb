{
 "cells": [
  {
   "cell_type": "code",
   "execution_count": 5,
   "metadata": {},
   "outputs": [],
   "source": [
    "import json\n",
    "\n",
    "\n",
    "person={\n",
    "    'name':\"John\",\n",
    "    \"age\":30,\n",
    "    \"city\":\"New York\",\n",
    "    \"hasChildren\":False\n",
    "}"
   ]
  },
  {
   "cell_type": "code",
   "execution_count": 6,
   "metadata": {},
   "outputs": [
    {
     "name": "stdout",
     "output_type": "stream",
     "text": [
      "{\"name\": \"John\", \"age\": 30, \"city\": \"New York\", \"hasChildren\": false}\n"
     ]
    }
   ],
   "source": [
    "#encode json\n",
    "\n",
    "encoded_person=json.dumps(person)\n",
    "\n",
    "print(encoded_person)"
   ]
  },
  {
   "cell_type": "code",
   "execution_count": 7,
   "metadata": {},
   "outputs": [],
   "source": [
    "#save to file\n",
    "with open('person.json','w') as file:\n",
    "    json.dump(person,file,indent=4)"
   ]
  },
  {
   "cell_type": "code",
   "execution_count": 9,
   "metadata": {},
   "outputs": [
    {
     "name": "stdout",
     "output_type": "stream",
     "text": [
      "{'name': 'John', 'age': 30, 'city': 'New York', 'hasChildren': False}\n",
      "New York\n"
     ]
    }
   ],
   "source": [
    "#read a json file\n",
    "with open('person.json','r') as file:\n",
    "    person=json.load(file)\n",
    "    print(person)\n",
    "\n",
    "    print(person['city'])"
   ]
  }
 ],
 "metadata": {
  "kernelspec": {
   "display_name": "Python 3",
   "language": "python",
   "name": "python3"
  },
  "language_info": {
   "codemirror_mode": {
    "name": "ipython",
    "version": 3
   },
   "file_extension": ".py",
   "mimetype": "text/x-python",
   "name": "python",
   "nbconvert_exporter": "python",
   "pygments_lexer": "ipython3",
   "version": "3.10.2"
  }
 },
 "nbformat": 4,
 "nbformat_minor": 2
}
