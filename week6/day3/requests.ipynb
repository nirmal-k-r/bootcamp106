{
 "cells": [
  {
   "cell_type": "code",
   "execution_count": 5,
   "metadata": {},
   "outputs": [
    {
     "name": "stdout",
     "output_type": "stream",
     "text": [
      "The city of Pompeii was not destroyed by a volcanic eruption, but rather an eruption from Chuck Norris after having eaten a truckload of Southern Homestyle Chili.\n"
     ]
    }
   ],
   "source": [
    "import requests\n",
    "import json\n",
    "\n",
    "\n",
    "#send get request\n",
    "\n",
    "url=\"https://api.chucknorris.io/jokes/random\"\n",
    "\n",
    "response=requests.get(url).json()\n",
    "\n",
    "print(response['value'])"
   ]
  },
  {
   "cell_type": "code",
   "execution_count": 8,
   "metadata": {},
   "outputs": [
    {
     "name": "stdout",
     "output_type": "stream",
     "text": [
      "200\n"
     ]
    }
   ],
   "source": [
    "\n",
    "url=\"https://api.chucknorris.io/jokes/random\"\n",
    "\n",
    "response=requests.get(url)\n",
    "\n",
    "print(response.status_code)"
   ]
  },
  {
   "cell_type": "code",
   "execution_count": 9,
   "metadata": {},
   "outputs": [
    {
     "name": "stdout",
     "output_type": "stream",
     "text": [
      "404\n"
     ]
    }
   ],
   "source": [
    "\n",
    "url=\"https://api.chucknorris.io/jokdwqakjwqdqwes/random\"\n",
    "\n",
    "response=requests.get(url)\n",
    "\n",
    "print(response.status_code)"
   ]
  },
  {
   "cell_type": "code",
   "execution_count": 10,
   "metadata": {},
   "outputs": [
    {
     "name": "stdout",
     "output_type": "stream",
     "text": [
      "['animal', 'career', 'celebrity', 'dev', 'explicit', 'fashion', 'food', 'history', 'money', 'movie', 'music', 'political', 'religion', 'science', 'sport', 'travel']\n"
     ]
    }
   ],
   "source": [
    "#get categrories\n",
    "url=\"https://api.chucknorris.io/jokes/categories\"\n",
    "response=requests.get(url).json()\n",
    "\n",
    "print(response)"
   ]
  },
  {
   "cell_type": "code",
   "execution_count": 15,
   "metadata": {},
   "outputs": [
    {
     "name": "stdout",
     "output_type": "stream",
     "text": [
      "Chuck Norris once rode a nine foot grizzly bear through an automatic car wash, instead of taking a shower.\n"
     ]
    }
   ],
   "source": [
    "#query parameters\n",
    "\n",
    "url=\"https://api.chucknorris.io/jokes/random\"\n",
    "query={\"category\":\"animal\"}\n",
    "\n",
    "response=requests.get(url,params=query).json()\n",
    "print(response['value'])"
   ]
  }
 ],
 "metadata": {
  "kernelspec": {
   "display_name": "Python 3",
   "language": "python",
   "name": "python3"
  },
  "language_info": {
   "codemirror_mode": {
    "name": "ipython",
    "version": 3
   },
   "file_extension": ".py",
   "mimetype": "text/x-python",
   "name": "python",
   "nbconvert_exporter": "python",
   "pygments_lexer": "ipython3",
   "version": "3.10.2"
  }
 },
 "nbformat": 4,
 "nbformat_minor": 2
}
