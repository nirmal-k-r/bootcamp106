{
 "cells": [
  {
   "cell_type": "code",
   "execution_count": null,
   "metadata": {},
   "outputs": [
    {
     "data": {
      "text/plain": [
       "'paul\\nmary\\njean\\npierre\\neric\\nrita'"
      ]
     },
     "execution_count": 1,
     "metadata": {},
     "output_type": "execute_result"
    }
   ],
   "source": [
    "#reading a file\n",
    "\n",
    "file=open(\"names.txt\",\"r\")#file is an object. File open mode is read\n",
    "\n",
    "file.read()#read the file\n",
    "\n",
    "file.close()#close the file\n"
   ]
  },
  {
   "cell_type": "code",
   "execution_count": 4,
   "metadata": {},
   "outputs": [
    {
     "name": "stdout",
     "output_type": "stream",
     "text": [
      "paul\n",
      "mary\n",
      "jean\n",
      "pierre\n",
      "eric\n",
      "rit\n"
     ]
    }
   ],
   "source": [
    "#exception handling\n",
    "\n",
    "try:\n",
    "    file=open(\"names.txt\",\"r\")\n",
    "    print(file.read())\n",
    "    file.close()\n",
    "except:\n",
    "    print(\"Error opening the file\")"
   ]
  },
  {
   "cell_type": "code",
   "execution_count": null,
   "metadata": {},
   "outputs": [
    {
     "name": "stdout",
     "output_type": "stream",
     "text": [
      "paul\n",
      "mary\n",
      "jean\n",
      "pierre\n",
      "eric\n",
      "rit\n"
     ]
    }
   ],
   "source": [
    "with open(\"names.txt\",\"r\") as file:\n",
    "    print(file.read())\n",
    "# no need to close the file. It will be closed automatically when using \"with\""
   ]
  },
  {
   "cell_type": "code",
   "execution_count": null,
   "metadata": {},
   "outputs": [
    {
     "name": "stdout",
     "output_type": "stream",
     "text": [
      "paul\n",
      "\n",
      "mary\n",
      "\n",
      "jean\n",
      "\n",
      "pierre\n",
      "\n",
      "eric\n",
      "\n",
      "rit\n"
     ]
    }
   ],
   "source": [
    "file=open(\"names.txt\",\"r\")\n",
    "\n",
    "for line in file:\n",
    "    print(line) #read a file line by line\n",
    "\n",
    "file.close()"
   ]
  },
  {
   "cell_type": "code",
   "execution_count": 13,
   "metadata": {},
   "outputs": [
    {
     "name": "stdout",
     "output_type": "stream",
     "text": [
      "['paul\\n', 'mary\\n', 'jean\\n', 'pierre\\n', 'eric\\n', 'rit']\n"
     ]
    }
   ],
   "source": [
    "file=open(\"names.txt\",\"r\")\n",
    "print(file.readlines()) #get list of lines in the file\n",
    "file.close()"
   ]
  },
  {
   "cell_type": "code",
   "execution_count": 11,
   "metadata": {},
   "outputs": [],
   "source": [
    "#write to a file\n",
    "\n",
    "file=open(\"cars.txt\",\"w\") #open file in write mode\n",
    "\n",
    "file.write(\"Toyota\\n\") #write to the file\n",
    "file.write(\"Nissan\\n\") \n",
    "file.write(\"Audi\\n\") \n",
    "file.write(\"bmw\\n\") \n",
    "\n",
    "\n",
    "file.close()"
   ]
  },
  {
   "cell_type": "code",
   "execution_count": 12,
   "metadata": {},
   "outputs": [],
   "source": [
    "#append to a file\n",
    "\n",
    "file=open(\"cars.txt\",\"a\") #open file in append mode\n",
    "\n",
    "file.write('Lotus\\n')\n",
    "file.write('Ferrari\\n')\n",
    "\n",
    "file.close()\n"
   ]
  },
  {
   "cell_type": "code",
   "execution_count": 16,
   "metadata": {},
   "outputs": [
    {
     "name": "stdout",
     "output_type": "stream",
     "text": [
      "mary\n",
      "jean\n",
      "pierre\n",
      "eric\n",
      "rit\n"
     ]
    }
   ],
   "source": [
    "file=open(\"names.txt\",\"r\")\n",
    "\n",
    "file.seek(5) #move the cursor to the 7th character\n",
    "\n",
    "print(file.read())\n",
    "\n",
    "file.close()\n"
   ]
  }
 ],
 "metadata": {
  "kernelspec": {
   "display_name": "Python 3",
   "language": "python",
   "name": "python3"
  },
  "language_info": {
   "codemirror_mode": {
    "name": "ipython",
    "version": 3
   },
   "file_extension": ".py",
   "mimetype": "text/x-python",
   "name": "python",
   "nbconvert_exporter": "python",
   "pygments_lexer": "ipython3",
   "version": "3.10.2"
  }
 },
 "nbformat": 4,
 "nbformat_minor": 2
}
