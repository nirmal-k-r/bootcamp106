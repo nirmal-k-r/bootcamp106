{
 "cells": [
  {
   "cell_type": "code",
   "execution_count": 48,
   "metadata": {},
   "outputs": [
    {
     "name": "stdout",
     "output_type": "stream",
     "text": [
      "Name: Whiskers\n",
      "Age: 3\n",
      "Color: Brown\n",
      "Breed: Siamese\n"
     ]
    }
   ],
   "source": [
    "class Cat:\n",
    "    def __init__(self,name, age,color, breed):\n",
    "        self.name = name\n",
    "        self.age = age\n",
    "        self.color = color\n",
    "        self.breed = breed\n",
    "\n",
    "    def meow(self):\n",
    "        print(\"Meow\")\n",
    "\n",
    "    def details(self):\n",
    "        print(\"Name:\",self.name)\n",
    "        print(\"Age:\",self.age)\n",
    "        print(\"Color:\",self.color)\n",
    "        print(\"Breed:\",self.breed)\n",
    "\n",
    "\n",
    "cat1 = Cat(\"Whiskers\",3,\"Brown\",'Siamese')\n",
    "cat1.details()\n"
   ]
  },
  {
   "cell_type": "code",
   "execution_count": 49,
   "metadata": {},
   "outputs": [
    {
     "name": "stdout",
     "output_type": "stream",
     "text": [
      "Name: Whiskers\n",
      "Age: 3\n",
      "Color: Brown\n",
      "Breed: Siamese\n",
      "-------\n",
      "Name: Whiskers\n",
      "Age: 3\n",
      "Color: Brown\n",
      "Breed: Persian\n",
      "-------\n",
      "Name: Snowball\n",
      "Age: 2\n",
      "Color: White\n",
      "Breed: Persian\n"
     ]
    }
   ],
   "source": [
    "class Cat:\n",
    "    breed=\"Siamese\" #class attribute\n",
    "\n",
    "    def __init__(self,name, age,color):\n",
    "        self.name = name\n",
    "        self.age = age\n",
    "        self.color = color\n",
    "       \n",
    "    def meow(self):\n",
    "        print(\"Meow\")\n",
    "\n",
    "    def details(self):\n",
    "        print(\"Name:\",self.name)\n",
    "        print(\"Age:\",self.age)\n",
    "        print(\"Color:\",self.color)\n",
    "        print(\"Breed:\",self.breed)\n",
    "\n",
    "\n",
    "cat1 = Cat(\"Whiskers\",3,\"Brown\")\n",
    "\n",
    "cat2 = Cat(\"Snowball\",2,\"White\")\n",
    "\n",
    "cat1.details()\n",
    "\n",
    "print('-------')\n",
    "\n",
    "Cat.breed = \"Persian\" #changing class attribute\n",
    "\n",
    "cat1.details()\n",
    "print('-------')\n",
    "cat2.details()\n",
    "\n"
   ]
  },
  {
   "cell_type": "code",
   "execution_count": 50,
   "metadata": {},
   "outputs": [
    {
     "name": "stdout",
     "output_type": "stream",
     "text": [
      "78.5\n",
      "9\n",
      "25\n"
     ]
    }
   ],
   "source": [
    "class Circle:\n",
    "    pi=3.14 #class attribute\n",
    "    def __init__(self,radius):\n",
    "        self.radius = radius\n",
    "\n",
    "    def area(self):\n",
    "        return Circle.pi*self.radius ** 2\n",
    "    \n",
    "\n",
    "circle1 = Circle(5)\n",
    "print(circle1.area())\n",
    "\n",
    "Circle.pi=1\n",
    "circle2 = Circle(3)\n",
    "print(circle2.area())\n",
    "\n",
    "print(circle1.area())\n",
    "\n"
   ]
  },
  {
   "cell_type": "code",
   "execution_count": 51,
   "metadata": {},
   "outputs": [
    {
     "name": "stdout",
     "output_type": "stream",
     "text": [
      "5\n"
     ]
    }
   ],
   "source": [
    "class Calculator:\n",
    "    def __init__(self):\n",
    "        pass\n",
    "\n",
    "    def add(self,num1,num2):\n",
    "        return num1+num2\n",
    "    \n",
    "\n",
    "mycalc=Calculator()\n",
    "\n",
    "result=mycalc.add(2,3)\n",
    "print(result)"
   ]
  },
  {
   "cell_type": "code",
   "execution_count": 52,
   "metadata": {},
   "outputs": [
    {
     "name": "stdout",
     "output_type": "stream",
     "text": [
      "8.0\n"
     ]
    }
   ],
   "source": [
    "import math\n",
    "\n",
    "print(math.pow(2,3))"
   ]
  },
  {
   "cell_type": "code",
   "execution_count": 53,
   "metadata": {},
   "outputs": [
    {
     "name": "stdout",
     "output_type": "stream",
     "text": [
      "5\n"
     ]
    }
   ],
   "source": [
    "class Calculator:\n",
    "    def __init__(self):\n",
    "        pass\n",
    "\n",
    "    @staticmethod\n",
    "    def add(num1,num2):\n",
    "        return num1+num2\n",
    "    \n",
    "\n",
    "result=Calculator.add(2,3)\n",
    "print(result)"
   ]
  },
  {
   "cell_type": "code",
   "execution_count": 54,
   "metadata": {},
   "outputs": [
    {
     "name": "stdout",
     "output_type": "stream",
     "text": [
      "3.14\n",
      "5\n",
      "10\n"
     ]
    }
   ],
   "source": [
    "class Calculator:\n",
    "    pi=3.14 #static variable/ class variable\n",
    "\n",
    "    def __init__(self):\n",
    "        pass\n",
    "\n",
    "    @classmethod\n",
    "    def add(cls,num1,num2):\n",
    "        cls.pi=10\n",
    "        return num1+num2\n",
    "    \n",
    "\n",
    "print(Calculator.pi)\n",
    "result=Calculator.add(2,3)\n",
    "print(result)\n",
    "\n",
    "print(Calculator.pi)"
   ]
  },
  {
   "cell_type": "code",
   "execution_count": 55,
   "metadata": {},
   "outputs": [
    {
     "name": "stdout",
     "output_type": "stream",
     "text": [
      "Length: 5\n",
      "Width: 4\n",
      "Area: 20\n",
      "Length: 10\n",
      "Width: 4\n",
      "Area: 20\n"
     ]
    }
   ],
   "source": [
    "class Rectangle:\n",
    "    def __init__(self,length,width):\n",
    "        self.length = length\n",
    "        self.width = width\n",
    "        self.area=self.length*self.width\n",
    "    \n",
    "    # @property\n",
    "    # def area(self):\n",
    "    #     return self.length*self.width\n",
    "\n",
    "    def info(self):\n",
    "        print(\"Length:\",self.length)\n",
    "        print(\"Width:\",self.width)\n",
    "        print(\"Area:\",self.area)\n",
    "\n",
    "rec=Rectangle(5,4)\n",
    "rec.info()\n",
    "\n",
    "rec.length=10\n",
    "rec.info()\n",
    "\n",
    "   \n",
    "\n",
    "\n"
   ]
  },
  {
   "cell_type": "code",
   "execution_count": 56,
   "metadata": {},
   "outputs": [
    {
     "name": "stdout",
     "output_type": "stream",
     "text": [
      "Length: 5\n",
      "Width: 4\n",
      "Area: 20\n",
      "Length: 10\n",
      "Width: 4\n",
      "Area: 40\n"
     ]
    }
   ],
   "source": [
    "class Rectangle:\n",
    "    def __init__(self,length,width):\n",
    "        self.length = length\n",
    "        self.width = width\n",
    "\n",
    "    @property\n",
    "    def area(self):\n",
    "        return self.length*self.width\n",
    "\n",
    "    def info(self):\n",
    "        print(\"Length:\",self.length)\n",
    "        print(\"Width:\",self.width)\n",
    "        print(\"Area:\",self.area)\n",
    "\n",
    "rec=Rectangle(5,4)\n",
    "rec.info()\n",
    "\n",
    "rec.length=10\n",
    "rec.info()"
   ]
  },
  {
   "cell_type": "code",
   "execution_count": null,
   "metadata": {},
   "outputs": [
    {
     "name": "stdout",
     "output_type": "stream",
     "text": [
      "Length: 5\n",
      "Width: 4\n",
      "Area: 20\n",
      "Length: 25\n",
      "Width: 4\n",
      "Area: 100\n"
     ]
    }
   ],
   "source": [
    "class Rectangle:\n",
    "    def __init__(self,length,width):\n",
    "        self.length = length\n",
    "        self.width = width\n",
    "\n",
    "    @property\n",
    "    def area(self):\n",
    "        return self.length*self.width\n",
    "    \n",
    "    @area.setter\n",
    "    def area(self,value):\n",
    "        self.length=value\n",
    "        self.width=value\n",
    "\n",
    "    def info(self):\n",
    "        print(\"Length:\",self.length)\n",
    "        print(\"Width:\",self.width)\n",
    "        print(\"Area:\",self.area)\n",
    "\n",
    "rec=Rectangle(5,4)\n",
    "rec.info()\n",
    "\n",
    "\n",
    "rec.area=25\n",
    "rec.info()"
   ]
  },
  {
   "cell_type": "code",
   "execution_count": null,
   "metadata": {},
   "outputs": [
    {
     "name": "stdout",
     "output_type": "stream",
     "text": [
      "Name:Rita\n",
      "Age:25\n",
      "Address:Kathmandu\n",
      "Phone:9841234567\n",
      "25\n",
      "Calling\n",
      "55\n"
     ]
    }
   ],
   "source": [
    "class Person:\n",
    "    def __init__(self,name,age,address,phone):\n",
    "        self.name = name\n",
    "        self.age = age\n",
    "        self.address = address\n",
    "        self.phone = phone\n",
    "\n",
    "    def __str__(self):\n",
    "        return f\"Name:{self.name}\\nAge:{self.age}\\nAddress:{self.address}\\nPhone:{self.phone}\"\n",
    "    \n",
    "    def __repr__(self):\n",
    "        return f\"Person('{self.name}',{self.age},'{self.address}','{self.phone}')\"\n",
    "    \n",
    "    def __len__(self):\n",
    "        return self.age\n",
    "    \n",
    "    def __call__(self):\n",
    "        print(\"Calling\")\n",
    "\n",
    "    def __add__(self,other):\n",
    "        return self.age+other.age\n",
    "\n",
    "    def info(self):\n",
    "        print(\"Name:\",self.name)\n",
    "        print(\"Age:\",self.age)\n",
    "        print(\"Address:\",self.address)\n",
    "        print(\"Phone:\",self.phone)\n",
    "\n",
    "   \n",
    "\n",
    "\n",
    "rita=Person(\"Rita\",25,\"Kathmandu\",\"9841234567\")\n",
    "print(rita)\n",
    "\n",
    "print(len(rita))\n",
    "\n",
    "\n",
    "rita()\n",
    "\n",
    "paul=Person(\"Paul\",30,\"Lalitpur\",\"9841234567\")\n",
    "\n",
    "print(rita+paul)\n",
    "\n",
    "\n",
    "\n",
    "\n",
    " "
   ]
  },
  {
   "cell_type": "code",
   "execution_count": 69,
   "metadata": {},
   "outputs": [
    {
     "data": {
      "text/plain": [
       "True"
      ]
     },
     "execution_count": 69,
     "metadata": {},
     "output_type": "execute_result"
    }
   ],
   "source": [
    "class CustomInt(int):\n",
    "    def __add__(self,other):\n",
    "        return self*other\n",
    "    \n",
    "    def __eq__(self,other):\n",
    "        return self!=other\n",
    "    \n",
    "\n",
    "x=CustomInt(5)\n",
    "y=CustomInt(3)\n",
    "\n",
    "x+y\n",
    "\n",
    "x==y"
   ]
  },
  {
   "cell_type": "code",
   "execution_count": 68,
   "metadata": {},
   "outputs": [
    {
     "data": {
      "text/plain": [
       "False"
      ]
     },
     "execution_count": 68,
     "metadata": {},
     "output_type": "execute_result"
    }
   ],
   "source": [
    "5==3"
   ]
  }
 ],
 "metadata": {
  "kernelspec": {
   "display_name": "Python 3",
   "language": "python",
   "name": "python3"
  },
  "language_info": {
   "codemirror_mode": {
    "name": "ipython",
    "version": 3
   },
   "file_extension": ".py",
   "mimetype": "text/x-python",
   "name": "python",
   "nbconvert_exporter": "python",
   "pygments_lexer": "ipython3",
   "version": "3.10.2"
  }
 },
 "nbformat": 4,
 "nbformat_minor": 2
}
