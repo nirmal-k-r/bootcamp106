{
 "cells": [
  {
   "cell_type": "code",
   "execution_count": 87,
   "metadata": {},
   "outputs": [],
   "source": [
    "import pandas as pd\n",
    "import numpy as np\n",
    "import matplotlib.pyplot as plt\n",
    "import sklearn as sk\n"
   ]
  },
  {
   "cell_type": "code",
   "execution_count": null,
   "metadata": {},
   "outputs": [],
   "source": [
    "#load the data\n",
    "df = pd.read_csv('car_price_prediction.csv')\n",
    "\n",
    "df.head()"
   ]
  },
  {
   "cell_type": "code",
   "execution_count": null,
   "metadata": {},
   "outputs": [],
   "source": [
    "#clean data\n",
    "df.replace('-', np.nan, inplace=True)\n",
    "df.dropna(inplace=True)\n",
    "\n",
    "df['mileage'] = df['Mileage'].str.replace(' km', '').str.replace(',', '').astype(int)\n",
    "\n",
    "df.head()"
   ]
  },
  {
   "cell_type": "code",
   "execution_count": null,
   "metadata": {},
   "outputs": [],
   "source": [
    "# df['Engine volume'].unique()\n",
    "\n",
    "#remove turbo\n",
    "df['Engine volume'] = df['Engine volume'].str.replace(' Turbo', '').astype(float)\n",
    "df['Engine volume'].unique()"
   ]
  },
  {
   "cell_type": "code",
   "execution_count": 91,
   "metadata": {},
   "outputs": [],
   "source": [
    "#encode the manufacturer column\n",
    "from sklearn.preprocessing import LabelEncoder\n",
    "\n",
    "manufacturer_encoder=LabelEncoder()\n",
    "manufacturer_encoder.fit(df['Manufacturer'])\n",
    "df['manufacturer_encoded']=manufacturer_encoder.transform(df['Manufacturer'])\n"
   ]
  },
  {
   "cell_type": "code",
   "execution_count": null,
   "metadata": {},
   "outputs": [],
   "source": [
    "#check encoded keys\n",
    "manufacturer_encoder.classes_"
   ]
  },
  {
   "cell_type": "code",
   "execution_count": null,
   "metadata": {},
   "outputs": [],
   "source": [
    "df.head()"
   ]
  },
  {
   "cell_type": "code",
   "execution_count": 94,
   "metadata": {},
   "outputs": [],
   "source": [
    "#selects columns to use as features\n",
    "x=df[['manufacturer_encoded', 'Engine volume', 'Prod. year', 'mileage', 'Levy']]\n",
    "y=df['Price']"
   ]
  },
  {
   "cell_type": "code",
   "execution_count": null,
   "metadata": {},
   "outputs": [],
   "source": [
    "x.head()"
   ]
  },
  {
   "cell_type": "code",
   "execution_count": null,
   "metadata": {},
   "outputs": [],
   "source": [
    "y.head()"
   ]
  },
  {
   "cell_type": "code",
   "execution_count": null,
   "metadata": {},
   "outputs": [],
   "source": [
    "x.info()"
   ]
  },
  {
   "cell_type": "code",
   "execution_count": 98,
   "metadata": {},
   "outputs": [],
   "source": [
    "#choose machine model and train\n",
    "\n",
    "#linear regression\n",
    "\n",
    "from sklearn.linear_model import LinearRegression\n",
    "from sklearn.model_selection import train_test_split\n",
    "\n",
    "x_train, x_test, y_train, y_test = train_test_split(x, y, test_size=0.3, random_state=0)"
   ]
  },
  {
   "cell_type": "code",
   "execution_count": null,
   "metadata": {},
   "outputs": [],
   "source": [
    "x_train.info()"
   ]
  },
  {
   "cell_type": "code",
   "execution_count": null,
   "metadata": {},
   "outputs": [],
   "source": [
    "x_test.info()"
   ]
  },
  {
   "cell_type": "code",
   "execution_count": null,
   "metadata": {},
   "outputs": [],
   "source": [
    "#train the model\n",
    "lr_model = LinearRegression()\n",
    "lr_model.fit(x_train, y_train)"
   ]
  },
  {
   "cell_type": "code",
   "execution_count": null,
   "metadata": {},
   "outputs": [],
   "source": [
    "#predict\n",
    "result=lr_model.predict([[6,3.0,2015,30000,13000]])\n",
    "result"
   ]
  },
  {
   "cell_type": "code",
   "execution_count": null,
   "metadata": {},
   "outputs": [],
   "source": [
    "#test model\n",
    "y_pred = lr_model.predict(x_test)\n",
    "\n",
    "from sklearn.metrics import mean_squared_error\n",
    "mse_value=mean_squared_error(y_test, y_pred)\n",
    "rmse_value=np.sqrt(mse_value)\n",
    "\n",
    "print('Mean Squared Error:', mse_value)\n",
    "print('Root Mean Squared Error:', rmse_value)\n"
   ]
  },
  {
   "cell_type": "code",
   "execution_count": null,
   "metadata": {},
   "outputs": [],
   "source": [
    "df.describe()"
   ]
  },
  {
   "cell_type": "code",
   "execution_count": null,
   "metadata": {},
   "outputs": [],
   "source": [
    "#make price type categorical into cheap and expensive \n",
    "df['price_type'] = pd.cut(df['Price'], bins=[0, 17300, 872946], labels=['cheap', 'expensive'])\n",
    "\n",
    "df['price_type'].value_counts()"
   ]
  },
  {
   "cell_type": "code",
   "execution_count": null,
   "metadata": {},
   "outputs": [],
   "source": [
    "df.head()"
   ]
  },
  {
   "cell_type": "code",
   "execution_count": null,
   "metadata": {},
   "outputs": [],
   "source": [
    "x.head()"
   ]
  },
  {
   "cell_type": "code",
   "execution_count": 108,
   "metadata": {},
   "outputs": [],
   "source": [
    "#encode price type\n",
    "price_type_encoder = LabelEncoder()\n",
    "price_type_encoder.fit(df['price_type'])\n",
    "df['price_type_encoded'] = price_type_encoder.transform(df['price_type'])\n",
    "\n",
    "y=df['price_type_encoded']"
   ]
  },
  {
   "cell_type": "code",
   "execution_count": null,
   "metadata": {},
   "outputs": [],
   "source": [
    "y.head()"
   ]
  },
  {
   "cell_type": "code",
   "execution_count": null,
   "metadata": {},
   "outputs": [],
   "source": [
    "#train a classfication\n",
    "from sklearn.ensemble import RandomForestClassifier\n",
    "\n",
    "x_train, x_test, y_train, y_test = train_test_split(x, y, test_size=0.3, random_state=0)\n",
    "\n",
    "rf_model = RandomForestClassifier(n_estimators=100, max_depth=4, random_state=42)\n",
    "rf_model.fit(x_train, y_train)\n"
   ]
  },
  {
   "cell_type": "code",
   "execution_count": null,
   "metadata": {},
   "outputs": [],
   "source": [
    "#predict\n",
    "result = rf_model.predict([[6,3.0,2015,30000,13000]])\n",
    "result"
   ]
  },
  {
   "cell_type": "code",
   "execution_count": null,
   "metadata": {},
   "outputs": [],
   "source": [
    "#tst model wigth accuracy, precision, f1-score and recall\n",
    "from sklearn.metrics import accuracy_score, precision_score, f1_score, recall_score\n",
    "import math\n",
    "\n",
    "y_pred = rf_model.predict(x_test)\n",
    "accuracy_score_value = accuracy_score(y_test, y_pred)\n",
    "precision_score_value = precision_score(y_test, y_pred)\n",
    "f1_score_value = f1_score(y_test, y_pred)\n",
    "recall_score_value = recall_score(y_test, y_pred)\n",
    "\n",
    "print('Accuracy Score:', math.floor(accuracy_score_value*100),\"%\")\n",
    "print('Precision Score:', math.floor(precision_score_value*100),\"%\")\n",
    "print('F1 Score:', math.floor(f1_score_value*100),\"%\")\n",
    "print('Recall Score:', math.floor(recall_score_value*100),\"%\")\n"
   ]
  },
  {
   "cell_type": "code",
   "execution_count": null,
   "metadata": {},
   "outputs": [],
   "source": [
    "#Hyperparameter tuning - Grd searchcv\n",
    "from sklearn.model_selection import GridSearchCV\n",
    "\n",
    "param_grid = {\n",
    "    \"n_estimators\": [50,100,150, 200,250, 300],\n",
    "    \"max_depth\": [2,3,4,6,7,8,9,10],\n",
    "    \"criterion\": [\"gini\", \"entropy\",\"log_loss\"]\n",
    "}\n",
    "\n",
    "rf_model = RandomForestClassifier(random_state=42)\n",
    "grid_search = GridSearchCV(estimator=rf_model, param_grid=param_grid, cv=5, n_jobs=-1,verbose=2)\n",
    "grid_search.fit(x_train, y_train)\n"
   ]
  },
  {
   "cell_type": "code",
   "execution_count": null,
   "metadata": {},
   "outputs": [],
   "source": [
    "grid_search.best_params_"
   ]
  },
  {
   "cell_type": "code",
   "execution_count": null,
   "metadata": {},
   "outputs": [],
   "source": [
    "tuned_model=grid_search.best_estimator_\n",
    "\n",
    "y_pred = tuned_model.predict(x_test)\n",
    "accuracy_score_value = accuracy_score(y_test, y_pred)\n",
    "precision_score_value = precision_score(y_test, y_pred)\n",
    "\n",
    "f1_score_value = f1_score(y_test, y_pred)\n",
    "recall_score_value = recall_score(y_test, y_pred)\n",
    "\n",
    "print('Accuracy Score:', math.floor(accuracy_score_value*100),\"%\")\n",
    "print('Precision Score:', math.floor(precision_score_value*100),\"%\")\n",
    "print('F1 Score:', math.floor(f1_score_value*100),\"%\")\n",
    "print('Recall Score:', math.floor(recall_score_value*100),\"%\")"
   ]
  },
  {
   "cell_type": "code",
   "execution_count": null,
   "metadata": {},
   "outputs": [],
   "source": [
    "#naives bayes\n",
    "from sklearn.naive_bayes import GaussianNB\n",
    "nb_model=GaussianNB()\n",
    "nb_model.fit(x_train, y_train)\n",
    "y_pred = nb_model.predict(x_test)\n",
    "\n",
    "accuracy_score_value = accuracy_score(y_test, y_pred)\n",
    "precision_score_value = precision_score(y_test, y_pred)\n",
    "f1_score_value = f1_score(y_test, y_pred)\n",
    "recall_score_value = recall_score(y_test, y_pred)\n",
    "\n",
    "print('Accuracy Score:', math.floor(accuracy_score_value*100),\"%\")\n",
    "print('Precision Score:', math.floor(precision_score_value*100),\"%\")\n",
    "print('F1 Score:', math.floor(f1_score_value*100),\"%\")\n",
    "print('Recall Score:', math.floor(recall_score_value*100),\"%\")\n"
   ]
  },
  {
   "cell_type": "code",
   "execution_count": null,
   "metadata": {},
   "outputs": [],
   "source": [
    "#predict\n",
    "result = nb_model.predict([[6,3.0,2015,30000,13000]])\n",
    "result"
   ]
  },
  {
   "cell_type": "code",
   "execution_count": null,
   "metadata": {},
   "outputs": [],
   "source": [
    "#visualise the coorelation between the features\n",
    "import seaborn as sns\n",
    "sns.heatmap(x.corr(), annot=True)\n"
   ]
  }
 ],
 "metadata": {
  "kernelspec": {
   "display_name": "Python 3",
   "language": "python",
   "name": "python3"
  },
  "language_info": {
   "codemirror_mode": {
    "name": "ipython",
    "version": 3
   },
   "file_extension": ".py",
   "mimetype": "text/x-python",
   "name": "python",
   "nbconvert_exporter": "python",
   "pygments_lexer": "ipython3",
   "version": "3.10.2"
  }
 },
 "nbformat": 4,
 "nbformat_minor": 2
}
