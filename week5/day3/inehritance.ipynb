{
 "cells": [
  {
   "cell_type": "code",
   "execution_count": 34,
   "metadata": {},
   "outputs": [],
   "source": [
    "#employee class\n",
    "\n",
    "class Employee:\n",
    "    def __init__(self,nic,name,address,phone):\n",
    "        self.nic = nic\n",
    "        self.name = name\n",
    "        self.address = address\n",
    "        self.phone = phone\n",
    "\n",
    "    def info(self):\n",
    "        print(\"NIC: \",self.nic)\n",
    "        print(\"Name: \",self.name)\n",
    "        print(\"Address: \",self.address)\n",
    "        print(\"Phone: \",self.phone)"
   ]
  },
  {
   "cell_type": "code",
   "execution_count": 35,
   "metadata": {},
   "outputs": [],
   "source": [
    "# #part time employee\n",
    "# class PartTimeEmployee:\n",
    "#     def __init__(self,nic,name,address,phone,hours):\n",
    "#         self.nic = nic\n",
    "#         self.name = name\n",
    "#         self.address = address\n",
    "#         self.phone = phone\n",
    "#         self.hours = hours\n",
    "\n",
    "#     def info(self):\n",
    "#         print(\"NIC: \",self.nic)\n",
    "#         print(\"Name: \",self.name)\n",
    "#         print(\"Address: \",self.address)\n",
    "#         print(\"Phone: \",self.phone)\n",
    "\n",
    "#         salary=self.hours*300\n",
    "#         print(\"Salary: \",salary)\n"
   ]
  },
  {
   "cell_type": "code",
   "execution_count": 36,
   "metadata": {},
   "outputs": [],
   "source": [
    "#inheritance\n",
    "\n",
    "#part time employee\n",
    "class PartTimeEmployee(Employee):\n",
    "    def __init__(self,nic,name,address,phone,hours):\n",
    "      Employee.__init__(self,nic,name,address,phone)\n",
    "      self.hours = hours\n",
    "\n",
    "    def info(self):\n",
    "        Employee.info(self)\n",
    "        salary=self.hours*300\n",
    "        print(\"Salary: \",salary)\n",
    "       \n",
    "   "
   ]
  },
  {
   "cell_type": "code",
   "execution_count": 37,
   "metadata": {},
   "outputs": [
    {
     "name": "stdout",
     "output_type": "stream",
     "text": [
      "NIC:  123456789V\n",
      "Name:  Paul\n",
      "Address:  Colombo\n",
      "Phone:  1234567\n"
     ]
    }
   ],
   "source": [
    "paul=Employee(\"123456789V\",\"Paul\",\"Colombo\",\"1234567\")\n",
    "paul.info()"
   ]
  },
  {
   "cell_type": "code",
   "execution_count": 38,
   "metadata": {},
   "outputs": [
    {
     "name": "stdout",
     "output_type": "stream",
     "text": [
      "NIC:  123456789V\n",
      "Name:  Eric\n",
      "Address:  Colombo\n",
      "Phone:  1234567\n",
      "Salary:  12000\n"
     ]
    }
   ],
   "source": [
    "eric=PartTimeEmployee(\"123456789V\",\"Eric\",\"Colombo\",\"1234567\",40)\n",
    "eric.info()"
   ]
  },
  {
   "cell_type": "code",
   "execution_count": 39,
   "metadata": {},
   "outputs": [],
   "source": [
    "#full time employee\n",
    "\n",
    "\n",
    "class FullTimeEmployee(Employee):\n",
    "    def __init__(self,nic,name,address,phone,basic_salary,benefits):\n",
    "        Employee.__init__(self,nic,name,address,phone)\n",
    "        self.basic_salary = basic_salary\n",
    "        self.benefits = benefits\n",
    "    \n",
    "    def info(self):\n",
    "        Employee.info(self)\n",
    "        salary=self.basic_salary+self.benefits\n",
    "        print(\"Salary: \",salary)\n"
   ]
  },
  {
   "cell_type": "code",
   "execution_count": 40,
   "metadata": {},
   "outputs": [
    {
     "name": "stdout",
     "output_type": "stream",
     "text": [
      "NIC:  123456789V\n",
      "Name:  Tom\n",
      "Address:  Colombo\n",
      "Phone:  1234567\n",
      "Salary:  60000\n"
     ]
    }
   ],
   "source": [
    "tom=FullTimeEmployee(\"123456789V\",\"Tom\",\"Colombo\",\"1234567\",50000,10000)\n",
    "tom.info()"
   ]
  },
  {
   "cell_type": "code",
   "execution_count": 41,
   "metadata": {},
   "outputs": [],
   "source": [
    "class Vehicle:\n",
    "    def __init__(self,make,model,year,color):\n",
    "        self.make = make\n",
    "        self.model = model\n",
    "        self.year = year\n",
    "        self.color = color\n",
    "\n",
    "    def info(self):\n",
    "        print(\"Make: \",self.make)\n",
    "        print(\"Model: \",self.model)\n",
    "        print(\"Year: \",self.year)\n",
    "        print(\"Color: \",self.color)\n",
    "\n",
    "    def drive(self):\n",
    "        print('vroom vroom')"
   ]
  },
  {
   "cell_type": "code",
   "execution_count": null,
   "metadata": {},
   "outputs": [],
   "source": [
    "class Car(Vehicle):\n",
    "    def __init__(self,make,model,year,color,doors,license_plate):\n",
    "        Vehicle.__init__(self,make,model,year,color)\n",
    "        self.doors = doors\n",
    "        self.license_plate = license_plate\n",
    "\n",
    "    def info(self): #overriding function info (polymorphism)\n",
    "        Vehicle.info(self)\n",
    "        print(\"Doors: \",self.doors)\n",
    "        print(\"License Plate: \",self.license_plate)\n"
   ]
  },
  {
   "cell_type": "code",
   "execution_count": 43,
   "metadata": {},
   "outputs": [],
   "source": [
    "class ElectricCar(Car):\n",
    "    def __init__(self,make,model,year,color,doors,license_plate,battery_capacity):\n",
    "        Car.__init__(self,make,model,year,color,doors,license_plate)\n",
    "        self.battery_capacity = battery_capacity\n",
    "\n",
    "    def info(self):\n",
    "        Car.info(self)\n",
    "        print(\"Battery Size: \",self.battery_capacity)\n",
    "\n",
    "    def drive(self,distance):\n",
    "        self.battery_capacity -= (distance/30) #assumong 30km per 1% battery\n",
    "        print('vroom vroom from electric car')\n",
    "\n",
    "    def check_battery(self):\n",
    "        print(f'battery is at {self.battery_capacity}%')"
   ]
  },
  {
   "cell_type": "code",
   "execution_count": 44,
   "metadata": {},
   "outputs": [
    {
     "name": "stdout",
     "output_type": "stream",
     "text": [
      "Make:  Tesla\n",
      "Model:  Model S\n",
      "Year:  2021\n",
      "Color:  Red\n",
      "Doors:  4\n",
      "License Plate:  AB-1234\n",
      "Battery Size:  100\n",
      "vroom vroom from electric car\n",
      "battery is at 98.0%\n"
     ]
    }
   ],
   "source": [
    "mycar=ElectricCar('Tesla','Model S',2021,'Red',4,'AB-1234',100)\n",
    "mycar.info()\n",
    "mycar.drive(60)\n",
    "mycar.check_battery()"
   ]
  },
  {
   "cell_type": "code",
   "execution_count": 45,
   "metadata": {},
   "outputs": [],
   "source": [
    "class Radio:\n",
    "    def __init__(self, antenna_type):\n",
    "        self.antenna_type = antenna_type\n",
    "\n",
    "    def info(self):\n",
    "        print('Antenna Type: ',self.antenna_type)\n",
    "\n",
    "    def play(self):\n",
    "        print('Playing music')"
   ]
  },
  {
   "cell_type": "code",
   "execution_count": 46,
   "metadata": {},
   "outputs": [],
   "source": [
    "class Phone:\n",
    "    def __init__(self, brand, model,os, battery_capacity):\n",
    "        self.brand = brand\n",
    "        self.model = model\n",
    "        self.os = os\n",
    "        self.battery_capacity = battery_capacity\n",
    "\n",
    "    def call(self):\n",
    "        print('Ringing')\n",
    "\n",
    "    def info(self):\n",
    "        print('Brand: ',self.brand)\n",
    "        print('Model: ',self.model)\n",
    "        print('OS: ',self.os)\n",
    "        print('Battery Capacity: ',self.battery_capacity)"
   ]
  },
  {
   "cell_type": "code",
   "execution_count": 47,
   "metadata": {},
   "outputs": [],
   "source": [
    "class IPhone(Phone, Radio):\n",
    "    def __init__(self, brand, model,os, battery_capacity, antenna_type):\n",
    "        Phone.__init__(self, brand, model,os, battery_capacity)\n",
    "        Radio.__init__(self, antenna_type)\n",
    "\n",
    "    def info(self):\n",
    "        Phone.info(self)\n",
    "        Radio.info(self)\n"
   ]
  },
  {
   "cell_type": "code",
   "execution_count": 48,
   "metadata": {},
   "outputs": [
    {
     "name": "stdout",
     "output_type": "stream",
     "text": [
      "Brand:  Apple\n",
      "Model:  iPhone 12\n",
      "OS:  iOS\n",
      "Battery Capacity:  100\n",
      "Antenna Type:  Internal\n",
      "Ringing\n",
      "Playing music\n"
     ]
    }
   ],
   "source": [
    "myphone=IPhone('Apple','iPhone 12','iOS',100,'Internal')\n",
    "myphone.info()\n",
    "myphone.call()\n",
    "myphone.play()"
   ]
  }
 ],
 "metadata": {
  "kernelspec": {
   "display_name": "Python 3",
   "language": "python",
   "name": "python3"
  },
  "language_info": {
   "codemirror_mode": {
    "name": "ipython",
    "version": 3
   },
   "file_extension": ".py",
   "mimetype": "text/x-python",
   "name": "python",
   "nbconvert_exporter": "python",
   "pygments_lexer": "ipython3",
   "version": "3.10.2"
  }
 },
 "nbformat": 4,
 "nbformat_minor": 2
}
