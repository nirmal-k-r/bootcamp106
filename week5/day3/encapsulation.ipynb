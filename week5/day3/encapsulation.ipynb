{
 "cells": [
  {
   "cell_type": "code",
   "execution_count": 9,
   "metadata": {},
   "outputs": [
    {
     "name": "stdout",
     "output_type": "stream",
     "text": [
      "NIC: 123456789V\n",
      "Name: John Doe\n",
      "Balance: Rs10000\n",
      "NIC: 123456789V\n",
      "Name: John Doe\n",
      "Balance: Rs1000000000000000000\n"
     ]
    }
   ],
   "source": [
    "class BankAccount:\n",
    "    def __init__(self, nic,name,balance=0):\n",
    "        self.nic = nic\n",
    "        self.name = name\n",
    "        self.balance = balance\n",
    "\n",
    "    def deposit(self, amount):\n",
    "        self.balance += amount\n",
    "    \n",
    "    def withdraw(self, amount):\n",
    "        if amount > self.balance:\n",
    "            print(\"Insufficient funds\")\n",
    "        else:\n",
    "            self.balance -= amount\n",
    "        print(f\"Withdrawal successful: Rs{amount}\")\n",
    "\n",
    "    def info(self):\n",
    "        print(f\"NIC: {self.nic}\\nName: {self.name}\\nBalance: Rs{self.balance}\")\n",
    "\n",
    "\n",
    "#main program\n",
    "myaccount=BankAccount(\"123456789V\",\"John Doe\",10000)\n",
    "myaccount.info()\n",
    "\n",
    "myaccount.balance=1000000000000000000\n",
    "myaccount.info()"
   ]
  },
  {
   "cell_type": "code",
   "execution_count": 10,
   "metadata": {},
   "outputs": [
    {
     "name": "stdout",
     "output_type": "stream",
     "text": [
      "NIC: 123456789V\n",
      "Name: John Doe\n",
      "Balance: Rs10000\n",
      "NIC: 123456789V\n",
      "Name: John Doe\n",
      "Balance: Rs10000\n",
      "NIC: 123456789V\n",
      "Name: John Doe\n",
      "Balance: Rs11000\n"
     ]
    }
   ],
   "source": [
    "class BankAccount:\n",
    "    def __init__(self, nic,name,balance=0):\n",
    "        self.__nic = nic\n",
    "        self.name = name\n",
    "        self.__balance = balance\n",
    "\n",
    "    def deposit(self, amount):\n",
    "        self.__balance += amount\n",
    "    \n",
    "    def withdraw(self, amount):\n",
    "        if amount > self.__balance:\n",
    "            print(\"Insufficient funds\")\n",
    "        else:\n",
    "            self.__balance -= amount\n",
    "        print(f\"Withdrawal successful: Rs{amount}\")\n",
    "\n",
    "    def info(self):\n",
    "        print(f\"NIC: {self.__nic}\\nName: {self.name}\\nBalance: Rs{self.__balance}\")\n",
    "\n",
    "#main program\n",
    "myaccount=BankAccount(\"123456789V\",\"John Doe\",10000)\n",
    "myaccount.info()\n",
    "\n",
    "myaccount.balance=1000000000000000000\n",
    "myaccount.__balance=1000000000000000000\n",
    "myaccount.info()\n",
    "\n",
    "\n",
    "myaccount.deposit(1000)\n",
    "myaccount.info()\n"
   ]
  },
  {
   "cell_type": "code",
   "execution_count": null,
   "metadata": {},
   "outputs": [
    {
     "name": "stdout",
     "output_type": "stream",
     "text": [
      "Name: Tobby\n",
      "Name: Tobby\n"
     ]
    },
    {
     "ename": "AttributeError",
     "evalue": "'Dog' object has no attribute '__bark'",
     "output_type": "error",
     "traceback": [
      "\u001b[0;31m---------------------------------------------------------------------------\u001b[0m",
      "\u001b[0;31mAttributeError\u001b[0m                            Traceback (most recent call last)",
      "Cell \u001b[0;32mIn[15], line 27\u001b[0m\n\u001b[1;32m     24\u001b[0m tobby\u001b[38;5;241m.\u001b[39mname\u001b[38;5;241m=\u001b[39m\u001b[38;5;124m\"\u001b[39m\u001b[38;5;124mtommy\u001b[39m\u001b[38;5;124m\"\u001b[39m\n\u001b[1;32m     25\u001b[0m tobby\u001b[38;5;241m.\u001b[39minfo()\n\u001b[0;32m---> 27\u001b[0m \u001b[43mtobby\u001b[49m\u001b[38;5;241;43m.\u001b[39;49m\u001b[43m__bark\u001b[49m()\n\u001b[1;32m     28\u001b[0m tobby\u001b[38;5;241m.\u001b[39mbark()\n\u001b[1;32m     30\u001b[0m tobby\u001b[38;5;241m.\u001b[39mchange_name(\u001b[38;5;124m\"\u001b[39m\u001b[38;5;124mTommy\u001b[39m\u001b[38;5;124m\"\u001b[39m)\n",
      "\u001b[0;31mAttributeError\u001b[0m: 'Dog' object has no attribute '__bark'"
     ]
    }
   ],
   "source": [
    "class Animal:\n",
    "    def __init__(self, name):\n",
    "        self.__name = name\n",
    "\n",
    "    def info(self):\n",
    "        print(f\"Name: {self.__name}\")\n",
    "\n",
    "    def __bark(self):\n",
    "        print(\"Barking\")\n",
    "\n",
    "    def change_name(self, name):\n",
    "        self.__name = name\n",
    "\n",
    "\n",
    "\n",
    "class Dog(Animal):\n",
    "    def __init__(self, name, breed):\n",
    "        Animal.__init__(self,name)\n",
    "        self.breed = breed\n",
    "\n",
    "tobby=Dog(\"Tobby\",\"German Shepherd\")\n",
    "tobby.info()\n",
    "\n",
    "tobby.name=\"tommy\"\n",
    "tobby.info()\n",
    "\n",
    "# tobby.__bark()\n",
    "# tobby.bark()\n",
    "\n",
    "tobby.change_name(\"Tommy\")\n",
    "tobby.info()\n",
    "\n",
    "   "
   ]
  },
  {
   "cell_type": "code",
   "execution_count": 19,
   "metadata": {},
   "outputs": [
    {
     "name": "stdout",
     "output_type": "stream",
     "text": [
      "opo\n"
     ]
    }
   ],
   "source": [
    "class Cat:\n",
    "    def __init__(self, name):\n",
    "        self.__name = name\n",
    "\n",
    "    def get_name(self):\n",
    "        return self.__name\n",
    "    \n",
    "opo=Cat(\"opo\")\n",
    "# print(opo._name)\n",
    "print(opo.get_name())\n"
   ]
  }
 ],
 "metadata": {
  "kernelspec": {
   "display_name": "Python 3",
   "language": "python",
   "name": "python3"
  },
  "language_info": {
   "codemirror_mode": {
    "name": "ipython",
    "version": 3
   },
   "file_extension": ".py",
   "mimetype": "text/x-python",
   "name": "python",
   "nbconvert_exporter": "python",
   "pygments_lexer": "ipython3",
   "version": "3.10.2"
  }
 },
 "nbformat": 4,
 "nbformat_minor": 2
}
