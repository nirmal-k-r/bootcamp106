{
 "cells": [
  {
   "cell_type": "code",
   "execution_count": 43,
   "metadata": {},
   "outputs": [],
   "source": [
    "class Car:\n",
    "    #constructor\n",
    "    def __init__(self,make,model,color): \n",
    "        #instance variables/properties\n",
    "        self.make=make  #self.make is a property\n",
    "        self.model=model\n",
    "        self.color=color\n",
    "        self.country=\"Mauritius\"\n",
    "\n",
    "    #class methods /behaviors\n",
    "    def drive(self):\n",
    "        print(\"Vroom...vroom...Driving\")\n",
    "\n",
    "    def info(self):\n",
    "        print(f'Make: {self.make} Model: {self.model} Color: {self.color} Country: {self.country}')\n",
    "    \n"
   ]
  },
  {
   "cell_type": "code",
   "execution_count": 44,
   "metadata": {},
   "outputs": [
    {
     "name": "stdout",
     "output_type": "stream",
     "text": [
      "Vroom...vroom...Driving\n",
      "Make: Toyota Model: Corolla Color: White Country: Mauritius\n"
     ]
    }
   ],
   "source": [
    "my_car=Car(\"Toyota\",\"Corolla\",\"White\") #my_car is an object\n",
    "#creating an object calls the constructor\n",
    "\n",
    "\n",
    "my_car.drive()\n",
    "\n",
    "my_car.info()"
   ]
  },
  {
   "cell_type": "code",
   "execution_count": 45,
   "metadata": {},
   "outputs": [
    {
     "name": "stdout",
     "output_type": "stream",
     "text": [
      "White\n",
      "Toyota\n",
      "Corolla\n",
      "Mauritius\n"
     ]
    }
   ],
   "source": [
    "print(my_car.color)\n",
    "print(my_car.make)\n",
    "print(my_car.model)\n",
    "print(my_car.country)\n"
   ]
  },
  {
   "cell_type": "code",
   "execution_count": 46,
   "metadata": {},
   "outputs": [
    {
     "name": "stdout",
     "output_type": "stream",
     "text": [
      "Make: Honda Model: Civic Color: Black Country: Mauritius\n"
     ]
    }
   ],
   "source": [
    "neighbour_car=Car(\"Honda\",\"Civic\",\"Black\")\n",
    "neighbour_car.info()"
   ]
  },
  {
   "cell_type": "code",
   "execution_count": 47,
   "metadata": {},
   "outputs": [
    {
     "name": "stdout",
     "output_type": "stream",
     "text": [
      "Vroom...vroom...Driving\n"
     ]
    }
   ],
   "source": [
    "#create list of object of type Car\n",
    "cars=[my_car,neighbour_car]\n",
    "cars[0].drive()"
   ]
  },
  {
   "cell_type": "code",
   "execution_count": 48,
   "metadata": {},
   "outputs": [
    {
     "name": "stdout",
     "output_type": "stream",
     "text": [
      "<class 'int'>\n",
      "<class '__main__.Car'>\n"
     ]
    }
   ],
   "source": [
    "x=10\n",
    "print(type(x))\n",
    "\n",
    "\n",
    "print(type(neighbour_car))"
   ]
  },
  {
   "cell_type": "code",
   "execution_count": 49,
   "metadata": {},
   "outputs": [],
   "source": [
    "class Person:\n",
    "    def __init__(self,name,address,age):\n",
    "        self.name=name\n",
    "        self.address=address\n",
    "        self.age=age\n",
    "\n",
    "    def change_name(self,new_name):\n",
    "        self.name=new_name\n",
    "\n",
    "    def change_address(self,new_address):\n",
    "        self.address=new_address\n",
    "\n",
    "    def grow_up(self):\n",
    "        self.age+=1\n",
    "\n",
    "    def eat(self):\n",
    "        print(\"Eating\")\n",
    "\n",
    "    def feed(self,animal):\n",
    "        print(f'{self.name} is feeding {animal.name}')\n",
    "\n",
    "    def info(self):\n",
    "        print(f'Name: {self.name} Address: {self.address} Age: {self.age}')"
   ]
  },
  {
   "cell_type": "code",
   "execution_count": 50,
   "metadata": {},
   "outputs": [
    {
     "name": "stdout",
     "output_type": "stream",
     "text": [
      "Name: Nirmal Address: Rose Hill Age: 25\n",
      "Name: Nirmal Kumar Address: Rose Hill Age: 25\n",
      "Name: Nirmal Kumar Address: Rose Hill Age: 26\n"
     ]
    }
   ],
   "source": [
    "nirmal=Person(\"Nirmal\",\"Rose Hill\",25)\n",
    "nirmal.info()\n",
    "nirmal.change_name(\"Nirmal Kumar\")\n",
    "nirmal.info()\n",
    "nirmal.grow_up()\n",
    "nirmal.info()"
   ]
  },
  {
   "cell_type": "code",
   "execution_count": 51,
   "metadata": {},
   "outputs": [
    {
     "name": "stdout",
     "output_type": "stream",
     "text": [
      "Meow...meow...\n"
     ]
    }
   ],
   "source": [
    "class Cat:\n",
    "    def __init__(self,name,color,breed):\n",
    "        self.name=name\n",
    "        self.color=color\n",
    "        self.breed=breed\n",
    "\n",
    "    def talk(self):\n",
    "        print(\"Meow...meow...\")\n",
    "\n",
    "        \n",
    "\n",
    "tom=Cat(\"Tom\",\"Grey\",\"Persian\")\n",
    "tom.talk()\n",
    "\n"
   ]
  },
  {
   "cell_type": "code",
   "execution_count": 52,
   "metadata": {},
   "outputs": [
    {
     "name": "stdout",
     "output_type": "stream",
     "text": [
      "Paul is feeding Rex\n"
     ]
    }
   ],
   "source": [
    "#interaction between 2 objects\n",
    "\n",
    "#object 1 - Person\n",
    "#object 2 - Cat\n",
    "\n",
    "paul=Person(\"Paul\",\"Beau Bassin\",30)\n",
    "rex=Cat(\"Rex\",\"Black\",\"Siamese\")\n",
    "\n",
    "paul.feed(rex)"
   ]
  }
 ],
 "metadata": {
  "kernelspec": {
   "display_name": "Python 3",
   "language": "python",
   "name": "python3"
  },
  "language_info": {
   "codemirror_mode": {
    "name": "ipython",
    "version": 3
   },
   "file_extension": ".py",
   "mimetype": "text/x-python",
   "name": "python",
   "nbconvert_exporter": "python",
   "pygments_lexer": "ipython3",
   "version": "3.10.2"
  }
 },
 "nbformat": 4,
 "nbformat_minor": 2
}
