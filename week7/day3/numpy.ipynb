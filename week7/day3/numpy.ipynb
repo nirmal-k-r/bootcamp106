{
 "cells": [
  {
   "cell_type": "code",
   "execution_count": 67,
   "metadata": {},
   "outputs": [
    {
     "name": "stdout",
     "output_type": "stream",
     "text": [
      "[1, 2, 3, 4]\n",
      "<class 'list'>\n"
     ]
    }
   ],
   "source": [
    "import numpy as np\n",
    "\n",
    "nums=[1,2,3,4]\n",
    "print(nums)\n",
    "print(type(nums))"
   ]
  },
  {
   "cell_type": "code",
   "execution_count": 68,
   "metadata": {},
   "outputs": [
    {
     "name": "stdout",
     "output_type": "stream",
     "text": [
      "[1 2 3 4]\n",
      "<class 'numpy.ndarray'>\n"
     ]
    }
   ],
   "source": [
    "nums=np.array([1,2,3,4])\n",
    "print(nums)\n",
    "print(type(nums))"
   ]
  },
  {
   "cell_type": "code",
   "execution_count": 69,
   "metadata": {},
   "outputs": [
    {
     "name": "stdout",
     "output_type": "stream",
     "text": [
      "[[1 2 3]\n",
      " [3 4 5]]\n",
      "Dimension:  2\n",
      "Shape:  (2, 3)\n",
      "Size:  6\n",
      "Data type:  int64\n"
     ]
    }
   ],
   "source": [
    "marks=[[1,2,3],[3,4,5]]\n",
    "# print(marks)\n",
    "marks=np.array(marks)\n",
    "\n",
    "print(marks)\n",
    "\n",
    "\n",
    "print(\"Dimension: \",marks.ndim)\n",
    "print(\"Shape: \",marks.shape)\n",
    "print(\"Size: \",marks.size)\n",
    "print(\"Data type: \",marks.dtype)"
   ]
  },
  {
   "cell_type": "code",
   "execution_count": 70,
   "metadata": {},
   "outputs": [
    {
     "name": "stdout",
     "output_type": "stream",
     "text": [
      "[[0. 0.]\n",
      " [0. 0.]]\n"
     ]
    }
   ],
   "source": [
    "#create zeroe array\n",
    "\n",
    "myarr=np.zeros((2,2))\n",
    "print(myarr)"
   ]
  },
  {
   "cell_type": "code",
   "execution_count": 71,
   "metadata": {},
   "outputs": [
    {
     "name": "stdout",
     "output_type": "stream",
     "text": [
      "[[1. 1.]\n",
      " [1. 1.]\n",
      " [1. 1.]\n",
      " [1. 1.]\n",
      " [1. 1.]]\n"
     ]
    }
   ],
   "source": [
    "myarr=np.ones((5,2))\n",
    "print(myarr)"
   ]
  },
  {
   "cell_type": "code",
   "execution_count": 72,
   "metadata": {},
   "outputs": [
    {
     "name": "stdout",
     "output_type": "stream",
     "text": [
      "[[1. 1. 1. 1. 1.]\n",
      " [1. 1. 1. 1. 1.]]\n"
     ]
    }
   ],
   "source": [
    "myarr=np.ones((2,5))\n",
    "print(myarr)"
   ]
  },
  {
   "cell_type": "code",
   "execution_count": 73,
   "metadata": {},
   "outputs": [
    {
     "name": "stdout",
     "output_type": "stream",
     "text": [
      "float64\n",
      "[[1 1 1 1 1]\n",
      " [1 1 1 1 1]]\n",
      "int64\n"
     ]
    }
   ],
   "source": [
    "print(myarr.dtype)\n",
    "\n",
    "# myarr=np.ones((2,5),dtype=int)\n",
    "myarr=myarr.astype(int)\n",
    "print(myarr)\n",
    "print(myarr.dtype)\n"
   ]
  },
  {
   "cell_type": "code",
   "execution_count": 74,
   "metadata": {},
   "outputs": [
    {
     "name": "stdout",
     "output_type": "stream",
     "text": [
      "[[1 2 3]\n",
      " [4 5 6]]\n",
      "-------\n",
      "[1 2 3]\n",
      "-------\n",
      "[4 5 6]\n",
      "-------\n",
      "2\n",
      "-------\n",
      "6\n"
     ]
    }
   ],
   "source": [
    "marks=[[1,2,3],[4,5,6]]\n",
    "marks=np.array(marks)\n",
    "print(marks)\n",
    "print('-------')\n",
    "print(marks[0])\n",
    "print('-------')\n",
    "print(marks[1])\n",
    "print('-------')\n",
    "\n",
    "print(marks[0][1])\n",
    "print('-------')\n",
    "\n",
    "print(marks[1][2])\n"
   ]
  },
  {
   "cell_type": "code",
   "execution_count": 75,
   "metadata": {},
   "outputs": [
    {
     "name": "stdout",
     "output_type": "stream",
     "text": [
      "[ 10  20  30  40  50  60  70  80  90 100]\n",
      "[10 20 30 40 50]\n",
      "[ 60  70  80  90 100]\n",
      "[100  90  80  70  60  50  40  30  20  10]\n"
     ]
    }
   ],
   "source": [
    "nums=np.array([1,2,3,4,5,6,7,8,9,10])\n",
    "\n",
    "nums=nums*10\n",
    "print(nums)\n",
    "\n",
    "\n",
    "filterednums=nums[0:5]\n",
    "print(filterednums)\n",
    "\n",
    "print(nums[5:])\n",
    "\n",
    "print(nums[::-1])"
   ]
  },
  {
   "cell_type": "code",
   "execution_count": 76,
   "metadata": {},
   "outputs": [
    {
     "name": "stdout",
     "output_type": "stream",
     "text": [
      "[0 1 2 3 4]\n",
      "[5 6 7 8 9]\n",
      "[1 3 5 7 9]\n",
      "[ 0.   2.5  5.   7.5 10. ]\n"
     ]
    }
   ],
   "source": [
    "data=np.arange(5)\n",
    "print(data)\n",
    "\n",
    "data=np.arange(5,10)\n",
    "print(data)\n",
    "\n",
    "data=np.arange(1,10,2)\n",
    "print(data)\n",
    "\n",
    "data=np.linspace(0,10,5)\n",
    "print(data)"
   ]
  },
  {
   "cell_type": "code",
   "execution_count": 77,
   "metadata": {},
   "outputs": [
    {
     "name": "stdout",
     "output_type": "stream",
     "text": [
      "[30. 57. 34. 92. 80.]\n"
     ]
    }
   ],
   "source": [
    "#generate random numbers\n",
    "\n",
    "data=np.random.rand(5)\n",
    "print(np.floor(data*100))"
   ]
  },
  {
   "cell_type": "code",
   "execution_count": 78,
   "metadata": {},
   "outputs": [
    {
     "name": "stdout",
     "output_type": "stream",
     "text": [
      "[5 3 1 1 1]\n"
     ]
    }
   ],
   "source": [
    "randomNums=np.random.randint(1,10,5)\n",
    "print(randomNums)"
   ]
  },
  {
   "cell_type": "code",
   "execution_count": 80,
   "metadata": {},
   "outputs": [
    {
     "name": "stdout",
     "output_type": "stream",
     "text": [
      "[ 1  2  3  4  5  6  7  8  9 10]\n",
      "[[ 1  2]\n",
      " [ 3  4]\n",
      " [ 5  6]\n",
      " [ 7  8]\n",
      " [ 9 10]]\n"
     ]
    }
   ],
   "source": [
    "arr=np.arange(1,11)\n",
    "print(arr)\n",
    "\n",
    "final=arr.reshape((5,2))\n",
    "print(final)\n",
    "\n"
   ]
  },
  {
   "cell_type": "code",
   "execution_count": 82,
   "metadata": {},
   "outputs": [
    {
     "name": "stdout",
     "output_type": "stream",
     "text": [
      "Mean:  5.5\n",
      "Sum:  55\n",
      "Max:  10\n",
      "Min:  1\n",
      "Std:  2.8722813232690143\n"
     ]
    }
   ],
   "source": [
    "print(\"Mean: \",final.mean())\n",
    "print(\"Sum: \",final.sum())\n",
    "print(\"Max: \",final.max())\n",
    "print(\"Min: \",final.min())\n",
    "print(\"Std: \",final.std())\n",
    "\n",
    "\n"
   ]
  },
  {
   "cell_type": "code",
   "execution_count": 86,
   "metadata": {},
   "outputs": [
    {
     "name": "stdout",
     "output_type": "stream",
     "text": [
      "[[ 1  2]\n",
      " [ 3  4]\n",
      " [ 5  6]\n",
      " [ 7  8]\n",
      " [ 9 10]]\n",
      "[[0.8 1.6]\n",
      " [2.4 3.2]\n",
      " [4.  4.8]\n",
      " [5.6 6.4]\n",
      " [7.2 8. ]]\n"
     ]
    }
   ],
   "source": [
    "print(final)\n",
    "\n",
    "finalFinal=(final+final)*2/5\n",
    "print(finalFinal)"
   ]
  },
  {
   "cell_type": "code",
   "execution_count": 88,
   "metadata": {},
   "outputs": [
    {
     "name": "stdout",
     "output_type": "stream",
     "text": [
      "[[1 2 3]\n",
      " [4 5 6]]\n",
      "[[1.         1.41421356 1.73205081]\n",
      " [2.         2.23606798 2.44948974]]\n"
     ]
    }
   ],
   "source": [
    "newarr=np.array([[1,2,3],[4,5,6]])\n",
    "print(newarr)\n",
    "\n",
    "print(np.sqrt(newarr))  "
   ]
  },
  {
   "cell_type": "code",
   "execution_count": 89,
   "metadata": {},
   "outputs": [
    {
     "name": "stdout",
     "output_type": "stream",
     "text": [
      "sqrt(x, /, out=None, *, where=True, casting='same_kind', order='K', dtype=None, subok=True[, signature, extobj])\n",
      "\n",
      "Return the non-negative square-root of an array, element-wise.\n",
      "\n",
      "Parameters\n",
      "----------\n",
      "x : array_like\n",
      "    The values whose square-roots are required.\n",
      "out : ndarray, None, or tuple of ndarray and None, optional\n",
      "    A location into which the result is stored. If provided, it must have\n",
      "    a shape that the inputs broadcast to. If not provided or None,\n",
      "    a freshly-allocated array is returned. A tuple (possible only as a\n",
      "    keyword argument) must have length equal to the number of outputs.\n",
      "where : array_like, optional\n",
      "    This condition is broadcast over the input. At locations where the\n",
      "    condition is True, the `out` array will be set to the ufunc result.\n",
      "    Elsewhere, the `out` array will retain its original value.\n",
      "    Note that if an uninitialized `out` array is created via the default\n",
      "    ``out=None``, locations within it where the condition is False will\n",
      "    remain uninitialized.\n",
      "**kwargs\n",
      "    For other keyword-only arguments, see the\n",
      "    :ref:`ufunc docs <ufuncs.kwargs>`.\n",
      "\n",
      "Returns\n",
      "-------\n",
      "y : ndarray\n",
      "    An array of the same shape as `x`, containing the positive\n",
      "    square-root of each element in `x`.  If any element in `x` is\n",
      "    complex, a complex array is returned (and the square-roots of\n",
      "    negative reals are calculated).  If all of the elements in `x`\n",
      "    are real, so is `y`, with negative elements returning ``nan``.\n",
      "    If `out` was provided, `y` is a reference to it.\n",
      "    This is a scalar if `x` is a scalar.\n",
      "\n",
      "See Also\n",
      "--------\n",
      "emath.sqrt\n",
      "    A version which returns complex numbers when given negative reals.\n",
      "    Note that 0.0 and -0.0 are handled differently for complex inputs.\n",
      "\n",
      "Notes\n",
      "-----\n",
      "*sqrt* has--consistent with common convention--as its branch cut the\n",
      "real \"interval\" [`-inf`, 0), and is continuous from above on it.\n",
      "A branch cut is a curve in the complex plane across which a given\n",
      "complex function fails to be continuous.\n",
      "\n",
      "Examples\n",
      "--------\n",
      ">>> np.sqrt([1,4,9])\n",
      "array([ 1.,  2.,  3.])\n",
      "\n",
      ">>> np.sqrt([4, -1, -3+4J])\n",
      "array([ 2.+0.j,  0.+1.j,  1.+2.j])\n",
      "\n",
      ">>> np.sqrt([4, -1, np.inf])\n",
      "array([ 2., nan, inf])\n"
     ]
    }
   ],
   "source": [
    "print(np.sqrt.__doc__)"
   ]
  },
  {
   "cell_type": "code",
   "execution_count": 93,
   "metadata": {},
   "outputs": [
    {
     "name": "stdout",
     "output_type": "stream",
     "text": [
      "[ 1  2  3  0  5  4  0 34  2  0 24]\n",
      "[ 1  2  3  5  4 34  2 24]\n"
     ]
    }
   ],
   "source": [
    "mydata=np.array([1,2,3,0,5,4,0,34,2,0,24])\n",
    "print(mydata)\n",
    "\n",
    "#get non zero values\n",
    "print(mydata[np.nonzero(mydata)]) \n",
    "\n"
   ]
  },
  {
   "cell_type": "code",
   "execution_count": 94,
   "metadata": {},
   "outputs": [
    {
     "name": "stdout",
     "output_type": "stream",
     "text": [
      "[0 5 0 0 1]\n"
     ]
    }
   ],
   "source": [
    "mybin=[1,1,1,1,1,4]\n",
    "print(np.bincount(mybin))\n",
    "\n",
    "# [0,5,0,0,1]"
   ]
  }
 ],
 "metadata": {
  "kernelspec": {
   "display_name": "Python 3",
   "language": "python",
   "name": "python3"
  },
  "language_info": {
   "codemirror_mode": {
    "name": "ipython",
    "version": 3
   },
   "file_extension": ".py",
   "mimetype": "text/x-python",
   "name": "python",
   "nbconvert_exporter": "python",
   "pygments_lexer": "ipython3",
   "version": "3.10.2"
  }
 },
 "nbformat": 4,
 "nbformat_minor": 2
}
