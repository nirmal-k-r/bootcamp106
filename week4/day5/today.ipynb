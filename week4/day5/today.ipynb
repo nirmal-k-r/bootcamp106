{
 "cells": [
  {
   "cell_type": "code",
   "execution_count": 4,
   "metadata": {},
   "outputs": [
    {
     "name": "stdout",
     "output_type": "stream",
     "text": [
      "['bag', 'hello', 'without', 'world']\n",
      "bag,hello,without,world\n"
     ]
    }
   ],
   "source": [
    "def sort_string(data):\n",
    "    words=data.split(',')\n",
    "\n",
    "    sorted_words=sorted(words)\n",
    "    print(sorted_words)\n",
    "\n",
    "    result=\",\".join(sorted_words)\n",
    "    print(result)\n",
    "\n",
    "\n",
    "sort_string('without,hello,bag,world')"
   ]
  },
  {
   "cell_type": "code",
   "execution_count": 15,
   "metadata": {},
   "outputs": [
    {
     "name": "stdout",
     "output_type": "stream",
     "text": [
      "[\"Margaret's\", 'toy', 'is', 'a', 'pretty', 'doll.']\n",
      "Margaret's\n"
     ]
    }
   ],
   "source": [
    "def longest_word(sentence):\n",
    "    words=sentence.split(' ')\n",
    "    print(words)\n",
    "    \n",
    "    longest_word=\"\"\n",
    "    \n",
    "    for word in words:\n",
    "        if len(word)>len(longest_word):\n",
    "            longest_word=word\n",
    "    \n",
    "    print(longest_word)\n",
    "    \n",
    "\n",
    "sentence=\"Margaret's toy is a pretty doll.\"\n",
    "longest_word(sentence)"
   ]
  }
 ],
 "metadata": {
  "kernelspec": {
   "display_name": "Python 3",
   "language": "python",
   "name": "python3"
  },
  "language_info": {
   "codemirror_mode": {
    "name": "ipython",
    "version": 3
   },
   "file_extension": ".py",
   "mimetype": "text/x-python",
   "name": "python",
   "nbconvert_exporter": "python",
   "pygments_lexer": "ipython3",
   "version": "3.10.2"
  }
 },
 "nbformat": 4,
 "nbformat_minor": 2
}
