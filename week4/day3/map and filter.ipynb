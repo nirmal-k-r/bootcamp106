{
 "cells": [
  {
   "cell_type": "code",
   "execution_count": 11,
   "metadata": {},
   "outputs": [
    {
     "name": "stdout",
     "output_type": "stream",
     "text": [
      "[70, 96, 40, 76, 64]\n"
     ]
    }
   ],
   "source": [
    "marks=[35,48,20,38,32] #out of 50\n",
    "\n",
    "for i,mark in enumerate(marks):\n",
    "    marks[i]=mark*2\n",
    "\n",
    "print(marks)\n"
   ]
  },
  {
   "cell_type": "code",
   "execution_count": 12,
   "metadata": {},
   "outputs": [
    {
     "name": "stdout",
     "output_type": "stream",
     "text": [
      "[70, 96, 40, 76, 64]\n"
     ]
    }
   ],
   "source": [
    "marks=[35,48,20,38,32] #out of 50\n",
    "\n",
    "\n",
    "def adjust_marks(mark):\n",
    "    return mark*2\n",
    "\n",
    "\n",
    "marks=list(map(adjust_marks,marks))\n",
    "print(marks)\n"
   ]
  },
  {
   "cell_type": "code",
   "execution_count": 13,
   "metadata": {},
   "outputs": [
    {
     "name": "stdout",
     "output_type": "stream",
     "text": [
      "[10, 50, 70, 80, 100]\n"
     ]
    }
   ],
   "source": [
    "def filter_multiples_of_10(num):\n",
    "    return num%10==0\n",
    "\n",
    "numbers=[10,22,32,44,50,65,70,80,92,100]\n",
    "\n",
    "filtered_numbers=list(filter(filter_multiples_of_10,numbers))\n",
    "print(filtered_numbers)"
   ]
  },
  {
   "cell_type": "code",
   "execution_count": null,
   "metadata": {},
   "outputs": [],
   "source": [
    "#reduce\n",
    "from functools import reduce\n",
    "\n",
    "\n",
    "nums=[1,2,3,4,5]\n",
    "\n",
    "def add(x,y):\n",
    "    return x+y\n",
    "\n",
    "result=reduce(add,nums)\n",
    "\n",
    "print(result)"
   ]
  },
  {
   "cell_type": "code",
   "execution_count": null,
   "metadata": {},
   "outputs": [
    {
     "name": "stdout",
     "output_type": "stream",
     "text": [
      "30\n",
      "3\n"
     ]
    }
   ],
   "source": [
    "#lambda function\n",
    "\n",
    "add=lambda x,y:x+y\n",
    "\n",
    "result=add(10,20)\n",
    "print(result)\n",
    "\n",
    "# add=3\n",
    "# print(add)"
   ]
  },
  {
   "cell_type": "code",
   "execution_count": null,
   "metadata": {},
   "outputs": [
    {
     "name": "stdout",
     "output_type": "stream",
     "text": [
      "HELLO\n"
     ]
    }
   ],
   "source": [
    "upper= lambda x:x.upper() #anonymous function\n",
    "print(upper('hello'))"
   ]
  }
 ],
 "metadata": {
  "kernelspec": {
   "display_name": "Python 3",
   "language": "python",
   "name": "python3"
  },
  "language_info": {
   "codemirror_mode": {
    "name": "ipython",
    "version": 3
   },
   "file_extension": ".py",
   "mimetype": "text/x-python",
   "name": "python",
   "nbconvert_exporter": "python",
   "pygments_lexer": "ipython3",
   "version": "3.10.2"
  }
 },
 "nbformat": 4,
 "nbformat_minor": 2
}
