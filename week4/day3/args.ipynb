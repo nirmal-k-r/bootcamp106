{
 "cells": [
  {
   "cell_type": "code",
   "execution_count": 3,
   "metadata": {},
   "outputs": [
    {
     "name": "stdout",
     "output_type": "stream",
     "text": [
      "5\n"
     ]
    }
   ],
   "source": [
    "def add(num1,num2):\n",
    "    result= num1 + num2\n",
    "    print(result)\n",
    "\n",
    "add(2,3)\n"
   ]
  },
  {
   "cell_type": "code",
   "execution_count": 4,
   "metadata": {},
   "outputs": [
    {
     "name": "stdout",
     "output_type": "stream",
     "text": [
      "9\n"
     ]
    }
   ],
   "source": [
    "def add2(num1,num2,num3):\n",
    "    result= num1 + num2 + num3\n",
    "    print(result)\n",
    "\n",
    "add2(2,3,4)"
   ]
  },
  {
   "cell_type": "code",
   "execution_count": 5,
   "metadata": {},
   "outputs": [
    {
     "name": "stdout",
     "output_type": "stream",
     "text": [
      "14\n"
     ]
    }
   ],
   "source": [
    "def add3(num1,num2,num3,num4):\n",
    "    result= num1 + num2 + num3 + num4\n",
    "    print(result)\n",
    "\n",
    "add3(2,3,4,5)"
   ]
  },
  {
   "cell_type": "code",
   "execution_count": null,
   "metadata": {},
   "outputs": [
    {
     "name": "stdout",
     "output_type": "stream",
     "text": [
      "5\n",
      "9\n",
      "14\n",
      "20\n"
     ]
    }
   ],
   "source": [
    "def add(*numbers):#*numbers is a tuple that can take any number of arguments\n",
    "    result=0\n",
    "    for number in numbers:\n",
    "        result+=number\n",
    "    print(result)\n",
    "\n",
    "add(2,3)\n",
    "add(2,3,4)\n",
    "add(2,3,4,5)\n",
    "add(2,3,4,5,6)"
   ]
  },
  {
   "cell_type": "code",
   "execution_count": 7,
   "metadata": {},
   "outputs": [
    {
     "name": "stdout",
     "output_type": "stream",
     "text": [
      "150\n"
     ]
    }
   ],
   "source": [
    "add(10,20,30,40,50)"
   ]
  },
  {
   "cell_type": "code",
   "execution_count": 9,
   "metadata": {},
   "outputs": [
    {
     "name": "stdout",
     "output_type": "stream",
     "text": [
      "14\n",
      "120\n"
     ]
    }
   ],
   "source": [
    "def cal(operation,*nums):\n",
    "    result=0\n",
    "    if operation=='+':\n",
    "        for num in nums:\n",
    "            result+=num\n",
    "    elif operation=='*':\n",
    "        result=1\n",
    "        for num in nums:\n",
    "            result*=num\n",
    "    print(result)\n",
    "\n",
    "cal('+',2,3,4,5)\n",
    "\n",
    "cal('*',2,3,4,5)"
   ]
  },
  {
   "cell_type": "code",
   "execution_count": null,
   "metadata": {},
   "outputs": [
    {
     "name": "stdout",
     "output_type": "stream",
     "text": [
      "Name:John, Age:30, Location:New York\n"
     ]
    }
   ],
   "source": [
    "#keyword arguments\n",
    "def details(name,age,location):\n",
    "    print(f\"Name:{name}, Age:{age}, Location:{location}\")\n",
    "\n",
    "details('John',30,'New York')"
   ]
  },
  {
   "cell_type": "code",
   "execution_count": 12,
   "metadata": {},
   "outputs": [
    {
     "name": "stdout",
     "output_type": "stream",
     "text": [
      "Name:John, Age:30, Location:New York\n",
      "Gender: male, Phone: 1234567890\n"
     ]
    }
   ],
   "source": [
    "def details(name,age,location,gender,phone):\n",
    "    print(f\"Name:{name}, Age:{age}, Location:{location}\")\n",
    "    print(f'Gender: {gender}, Phone: {phone}')\n",
    "\n",
    "details('John',30,'New York','male','1234567890')"
   ]
  },
  {
   "cell_type": "code",
   "execution_count": 15,
   "metadata": {},
   "outputs": [
    {
     "name": "stdout",
     "output_type": "stream",
     "text": [
      "{'name': 'John', 'age': 30, 'location': 'New York'}\n",
      "name:John\n",
      "age:30\n",
      "location:New York\n"
     ]
    }
   ],
   "source": [
    "def details(**data):\n",
    "    print(data)\n",
    "    for key,value in data.items():\n",
    "        print(f\"{key}:{value}\")\n",
    "\n",
    "\n",
    "details(name='John',age=30,location='New York')"
   ]
  },
  {
   "cell_type": "code",
   "execution_count": null,
   "metadata": {},
   "outputs": [
    {
     "name": "stdout",
     "output_type": "stream",
     "text": [
      "name:John\n",
      "age:30\n",
      "location:New\n",
      "gender:Male\n",
      "password:123456\n"
     ]
    }
   ],
   "source": [
    "details(name='John',age=30,location='New',gender='Male', password='123456')"
   ]
  },
  {
   "cell_type": "code",
   "execution_count": 16,
   "metadata": {},
   "outputs": [
    {
     "name": "stdout",
     "output_type": "stream",
     "text": [
      "['Paul', 'Jerry', 'Spike']\n"
     ]
    }
   ],
   "source": [
    "x=['Tom','Jerry','Spike']\n",
    "\n",
    "y=x\n",
    "\n",
    "y[0]='Paul'\n",
    "\n",
    "print(x)"
   ]
  },
  {
   "cell_type": "code",
   "execution_count": 18,
   "metadata": {},
   "outputs": [
    {
     "name": "stdout",
     "output_type": "stream",
     "text": [
      "['Tom', 'Jerry', 'Spike']\n"
     ]
    }
   ],
   "source": [
    "x=['Tom','Jerry','Spike']\n",
    "\n",
    "y=x.copy()\n",
    "\n",
    "y[0]='Paul'\n",
    "\n",
    "print(x)"
   ]
  },
  {
   "cell_type": "code",
   "execution_count": 17,
   "metadata": {},
   "outputs": [
    {
     "name": "stdout",
     "output_type": "stream",
     "text": [
      "5\n"
     ]
    }
   ],
   "source": [
    "x=5\n",
    "\n",
    "y=x\n",
    "\n",
    "y=10\n",
    "\n",
    "print(x)"
   ]
  },
  {
   "cell_type": "code",
   "execution_count": 22,
   "metadata": {},
   "outputs": [
    {
     "name": "stdout",
     "output_type": "stream",
     "text": [
      "John\n"
     ]
    },
    {
     "data": {
      "text/plain": [
       "'Not available'"
      ]
     },
     "execution_count": 22,
     "metadata": {},
     "output_type": "execute_result"
    }
   ],
   "source": [
    "person={'name':'John','age':30}\n",
    "\n",
    "print(person['name'])\n",
    "\n",
    "# print(person['gwhhjkwed'])\n",
    "\n",
    "person.get('namdsvnkjewnkfnewe','Not available')"
   ]
  },
  {
   "cell_type": "code",
   "execution_count": 25,
   "metadata": {},
   "outputs": [
    {
     "name": "stdout",
     "output_type": "stream",
     "text": [
      "ok\n",
      "<class 'NoneType'>\n"
     ]
    }
   ],
   "source": [
    "def test():\n",
    "   print('ok')\n",
    "\n",
    "\n",
    "print(type(test()))"
   ]
  },
  {
   "cell_type": "code",
   "execution_count": 28,
   "metadata": {},
   "outputs": [
    {
     "name": "stdout",
     "output_type": "stream",
     "text": [
      "1\n",
      "3\n",
      "5\n"
     ]
    }
   ],
   "source": [
    "numbers = [1, 2, 3, 4, 5]\n",
    "for num in numbers:\n",
    "    if num % 2 == 0:\n",
    "        continue\n",
    "    print(num)"
   ]
  },
  {
   "cell_type": "code",
   "execution_count": 32,
   "metadata": {},
   "outputs": [
    {
     "name": "stdout",
     "output_type": "stream",
     "text": [
      "(1,)\n"
     ]
    }
   ],
   "source": [
    "test=(1,)\n",
    "print(test)"
   ]
  },
  {
   "cell_type": "code",
   "execution_count": 35,
   "metadata": {},
   "outputs": [
    {
     "data": {
      "text/plain": [
       "{1, 2, 5, 7, 8, 10}"
      ]
     },
     "execution_count": 35,
     "metadata": {},
     "output_type": "execute_result"
    }
   ],
   "source": [
    "test={10,5,8,1,2,7,5,5,5}\n",
    "\n",
    "test"
   ]
  },
  {
   "cell_type": "code",
   "execution_count": 36,
   "metadata": {},
   "outputs": [
    {
     "name": "stdout",
     "output_type": "stream",
     "text": [
      "{2: 4, 4: 16, 6: 36, 8: 64}\n"
     ]
    }
   ],
   "source": [
    "print({x: x * x for x in range(1, 10) if x % 2 == 0})"
   ]
  },
  {
   "cell_type": "code",
   "execution_count": 37,
   "metadata": {},
   "outputs": [
    {
     "ename": "TypeError",
     "evalue": "'tuple' object does not support item assignment",
     "output_type": "error",
     "traceback": [
      "\u001b[0;31m---------------------------------------------------------------------------\u001b[0m",
      "\u001b[0;31mTypeError\u001b[0m                                 Traceback (most recent call last)",
      "Cell \u001b[0;32mIn[37], line 3\u001b[0m\n\u001b[1;32m      1\u001b[0m tst\u001b[38;5;241m=\u001b[39m(\u001b[38;5;241m12\u001b[39m,\u001b[38;5;241m3\u001b[39m,\u001b[38;5;241m4\u001b[39m)\n\u001b[0;32m----> 3\u001b[0m \u001b[43mtst\u001b[49m\u001b[43m[\u001b[49m\u001b[38;5;241;43m0\u001b[39;49m\u001b[43m]\u001b[49m\u001b[38;5;241m=\u001b[39m\u001b[38;5;241m10\u001b[39m\n",
      "\u001b[0;31mTypeError\u001b[0m: 'tuple' object does not support item assignment"
     ]
    }
   ],
   "source": [
    "tst=(12,3,4)\n",
    "\n",
    "tst[0]=10"
   ]
  }
 ],
 "metadata": {
  "kernelspec": {
   "display_name": "Python 3",
   "language": "python",
   "name": "python3"
  },
  "language_info": {
   "codemirror_mode": {
    "name": "ipython",
    "version": 3
   },
   "file_extension": ".py",
   "mimetype": "text/x-python",
   "name": "python",
   "nbconvert_exporter": "python",
   "pygments_lexer": "ipython3",
   "version": "3.10.2"
  }
 },
 "nbformat": 4,
 "nbformat_minor": 2
}
