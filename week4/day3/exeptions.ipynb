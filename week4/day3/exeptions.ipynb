{
 "cells": [
  {
   "cell_type": "code",
   "execution_count": 1,
   "metadata": {},
   "outputs": [
    {
     "name": "stdout",
     "output_type": "stream",
     "text": [
      "Porgram starts\n",
      "10.0\n",
      "Program ends\n"
     ]
    }
   ],
   "source": [
    "#No exception\n",
    "print(\"Porgram starts\")\n",
    "result=10/1\n",
    "print(result)\n",
    "print(\"Program ends\")"
   ]
  },
  {
   "cell_type": "code",
   "execution_count": 2,
   "metadata": {},
   "outputs": [],
   "source": [
    "#syntax errors\n",
    "#logical errors"
   ]
  },
  {
   "cell_type": "code",
   "execution_count": 3,
   "metadata": {},
   "outputs": [
    {
     "name": "stdout",
     "output_type": "stream",
     "text": [
      "Porgram starts\n"
     ]
    },
    {
     "ename": "ZeroDivisionError",
     "evalue": "division by zero",
     "output_type": "error",
     "traceback": [
      "\u001b[0;31m---------------------------------------------------------------------------\u001b[0m",
      "\u001b[0;31mZeroDivisionError\u001b[0m                         Traceback (most recent call last)",
      "Cell \u001b[0;32mIn[3], line 3\u001b[0m\n\u001b[1;32m      1\u001b[0m \u001b[38;5;66;03m#exception -logical error \u001b[39;00m\n\u001b[1;32m      2\u001b[0m \u001b[38;5;28mprint\u001b[39m(\u001b[38;5;124m\"\u001b[39m\u001b[38;5;124mPorgram starts\u001b[39m\u001b[38;5;124m\"\u001b[39m)\n\u001b[0;32m----> 3\u001b[0m result\u001b[38;5;241m=\u001b[39m\u001b[38;5;241;43m10\u001b[39;49m\u001b[38;5;241;43m/\u001b[39;49m\u001b[38;5;241;43m0\u001b[39;49m \u001b[38;5;66;03m#ZeroDivisionError\u001b[39;00m\n\u001b[1;32m      4\u001b[0m \u001b[38;5;28mprint\u001b[39m(result)\n\u001b[1;32m      5\u001b[0m \u001b[38;5;28mprint\u001b[39m(\u001b[38;5;124m\"\u001b[39m\u001b[38;5;124mProgram ends\u001b[39m\u001b[38;5;124m\"\u001b[39m)\n",
      "\u001b[0;31mZeroDivisionError\u001b[0m: division by zero"
     ]
    }
   ],
   "source": [
    "#exception -logical error \n",
    "print(\"Porgram starts\")\n",
    "result=10/0 #ZeroDivisionError\n",
    "print(result)\n",
    "print(\"Program ends\")"
   ]
  },
  {
   "cell_type": "code",
   "execution_count": null,
   "metadata": {},
   "outputs": [],
   "source": [
    "#no exception\n",
    "print(\"Program starts\")\n",
    "\n",
    "try:\n",
    "    result=10/1 \n",
    "    print(result)\n",
    "\n",
    "except: #not going to be exceuted if there is no exception\n",
    "    print(\"Error occured\")\n",
    "\n",
    "\n",
    "print(\"Program ends\")\n"
   ]
  },
  {
   "cell_type": "code",
   "execution_count": null,
   "metadata": {},
   "outputs": [],
   "source": [
    "#exception occurs\n",
    "print(\"Program starts\")\n",
    "\n",
    "try:\n",
    "    result=10/0\n",
    "    print(result)\n",
    "\n",
    "except: #only executed if exception occurs\n",
    "    print(\"Error occured\")\n",
    "\n",
    "\n",
    "print(\"Program ends\")"
   ]
  },
  {
   "cell_type": "code",
   "execution_count": null,
   "metadata": {},
   "outputs": [],
   "source": [
    "#exception occurs\n",
    "print(\"Program starts\")\n",
    "\n",
    "try:\n",
    "    result=10/1\n",
    "    print(result)\n",
    "\n",
    "except: \n",
    "    print(\"Error occured\")\n",
    "\n",
    "else: #only exected if no error occurs\n",
    "    print(\"No error occured\")\n",
    "\n",
    "print(\"Program ends\")"
   ]
  },
  {
   "cell_type": "code",
   "execution_count": null,
   "metadata": {},
   "outputs": [],
   "source": [
    "print(\"Program starts\")\n",
    "\n",
    "try:\n",
    "    result=10/0\n",
    "    print(result)\n",
    "\n",
    "except: \n",
    "    print(\"Error occured\")\n",
    "\n",
    "else: #only exected if no error occurs\n",
    "    print(\"No error occured\")\n",
    "\n",
    "finally: #always executed regardless of exception or not\n",
    "    print(\"Program ends\")\n"
   ]
  },
  {
   "cell_type": "code",
   "execution_count": null,
   "metadata": {},
   "outputs": [],
   "source": [
    "#exception occurs\n",
    "print(\"Program starts\")\n",
    "\n",
    "try:\n",
    "    result=10/0\n",
    "    print(result)\n",
    "\n",
    "except Exception as e: \n",
    "    print(\"Error occured\")\n",
    "    print(e)\n"
   ]
  },
  {
   "cell_type": "code",
   "execution_count": null,
   "metadata": {},
   "outputs": [
    {
     "name": "stdout",
     "output_type": "stream",
     "text": [
      "Program starts\n",
      "10.0\n",
      "Error occured\n"
     ]
    }
   ],
   "source": [
    "#exception occurs\n",
    "print(\"Program starts\")\n",
    "\n",
    "try:\n",
    "    result=10/1\n",
    "    print(result)\n",
    "\n",
    "except ZeroDivisionError as e: \n",
    "    print(\"Zero Division error occured\")\n",
    "\n",
    "except:\n",
    "    print(\"Error occured\")"
   ]
  },
  {
   "cell_type": "code",
   "execution_count": null,
   "metadata": {},
   "outputs": [
    {
     "ename": "KeyboardInterrupt",
     "evalue": "",
     "output_type": "error",
     "traceback": [
      "\u001b[0;31m---------------------------------------------------------------------------\u001b[0m",
      "\u001b[0;31mKeyboardInterrupt\u001b[0m                         Traceback (most recent call last)",
      "Cell \u001b[0;32mIn[4], line 2\u001b[0m\n\u001b[1;32m      1\u001b[0m num\u001b[38;5;241m=\u001b[39m\u001b[38;5;241m999999999999999999999999999999999999999999999999999999999999999999999999999999999999999999999999999999999999999999999999999999\u001b[39m\n\u001b[0;32m----> 2\u001b[0m result\u001b[38;5;241m=\u001b[39m\u001b[43mnum\u001b[49m\u001b[38;5;241;43m*\u001b[39;49m\u001b[38;5;241;43m*\u001b[39;49m\u001b[43mnum\u001b[49m\n\u001b[1;32m      4\u001b[0m \u001b[38;5;28mprint\u001b[39m(result)\n",
      "\u001b[0;31mKeyboardInterrupt\u001b[0m: "
     ]
    }
   ],
   "source": [
    "num=999999999999999999999999999999999999999999999999999999999999999999999999999999999999999999999999999999999999999999999999999999\n",
    "result=num**num\n",
    "\n",
    "print(result)"
   ]
  },
  {
   "cell_type": "code",
   "execution_count": 7,
   "metadata": {},
   "outputs": [
    {
     "ename": "Exception",
     "evalue": "This is an exception",
     "output_type": "error",
     "traceback": [
      "\u001b[0;31m---------------------------------------------------------------------------\u001b[0m",
      "\u001b[0;31mException\u001b[0m                                 Traceback (most recent call last)",
      "Cell \u001b[0;32mIn[7], line 1\u001b[0m\n\u001b[0;32m----> 1\u001b[0m \u001b[38;5;28;01mraise\u001b[39;00m \u001b[38;5;167;01mException\u001b[39;00m(\u001b[38;5;124m\"\u001b[39m\u001b[38;5;124mThis is an exception\u001b[39m\u001b[38;5;124m\"\u001b[39m)\n",
      "\u001b[0;31mException\u001b[0m: This is an exception"
     ]
    }
   ],
   "source": [
    "raise Exception(\"This is an exception\")"
   ]
  }
 ],
 "metadata": {
  "kernelspec": {
   "display_name": "Python 3",
   "language": "python",
   "name": "python3"
  },
  "language_info": {
   "codemirror_mode": {
    "name": "ipython",
    "version": 3
   },
   "file_extension": ".py",
   "mimetype": "text/x-python",
   "name": "python",
   "nbconvert_exporter": "python",
   "pygments_lexer": "ipython3",
   "version": "3.10.2"
  }
 },
 "nbformat": 4,
 "nbformat_minor": 2
}
