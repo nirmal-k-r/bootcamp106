{
 "cells": [
  {
   "cell_type": "code",
   "execution_count": 5,
   "metadata": {},
   "outputs": [],
   "source": [
    "#function definition\n",
    "def sayHello():\n",
    "    print('hello')\n",
    "    print('world')"
   ]
  },
  {
   "cell_type": "code",
   "execution_count": 6,
   "metadata": {},
   "outputs": [
    {
     "name": "stdout",
     "output_type": "stream",
     "text": [
      "hello\n",
      "world\n"
     ]
    }
   ],
   "source": [
    "sayHello() #function call"
   ]
  },
  {
   "cell_type": "code",
   "execution_count": 7,
   "metadata": {},
   "outputs": [
    {
     "name": "stdout",
     "output_type": "stream",
     "text": [
      "hello\n",
      "world\n",
      "hello\n",
      "world\n",
      "hello\n",
      "world\n",
      "hello\n",
      "world\n"
     ]
    }
   ],
   "source": [
    "sayHello()\n",
    "sayHello()\n",
    "sayHello()\n",
    "sayHello()"
   ]
  },
  {
   "cell_type": "code",
   "execution_count": 8,
   "metadata": {},
   "outputs": [
    {
     "name": "stdout",
     "output_type": "stream",
     "text": [
      "Car is driving\n"
     ]
    }
   ],
   "source": [
    "def drive():\n",
    "    print('Car is driving')\n",
    "\n",
    "drive()"
   ]
  },
  {
   "cell_type": "code",
   "execution_count": 9,
   "metadata": {},
   "outputs": [
    {
     "name": "stdout",
     "output_type": "stream",
     "text": [
      "Hello Alice\n",
      "Hello Paul\n"
     ]
    }
   ],
   "source": [
    "def hello(name): #function with one parameter\n",
    "    print('Hello', name)\n",
    "\n",
    "\n",
    "#main program\n",
    "hello('Alice')\n",
    "hello('Paul')\n",
    "\n"
   ]
  },
  {
   "cell_type": "code",
   "execution_count": 10,
   "metadata": {},
   "outputs": [],
   "source": [
    "# #scope\n",
    "# def sayHello():\n",
    "#     print('test')\n",
    "#     print(x)\n",
    "\n",
    "# #main program\n",
    "# x=10\n",
    "# sayHello()"
   ]
  },
  {
   "cell_type": "code",
   "execution_count": 11,
   "metadata": {},
   "outputs": [
    {
     "name": "stdout",
     "output_type": "stream",
     "text": [
      "The average is 3.0\n"
     ]
    }
   ],
   "source": [
    "def average(num1,num2):\n",
    "    sum = num1 + num2\n",
    "    avg = sum/2\n",
    "    return avg #returning the value\n",
    "\n",
    "#main program\n",
    "result=average(5,1)\n",
    "print('The average is', result)"
   ]
  },
  {
   "cell_type": "code",
   "execution_count": 12,
   "metadata": {},
   "outputs": [
    {
     "name": "stdout",
     "output_type": "stream",
     "text": [
      "The average is 3.0\n",
      "The sum is 6\n"
     ]
    }
   ],
   "source": [
    "def average2(num1,num2):\n",
    "    sum = num1 + num2\n",
    "    avg = sum/2\n",
    "    return sum,avg #returning multiple values\n",
    "\n",
    "#main program\n",
    "sum,avg=average2(5,1)\n",
    "print('The average is', result)\n",
    "print('The sum is', sum)"
   ]
  },
  {
   "cell_type": "code",
   "execution_count": 13,
   "metadata": {},
   "outputs": [
    {
     "name": "stdout",
     "output_type": "stream",
     "text": [
      "The average is 15.0\n"
     ]
    }
   ],
   "source": [
    "result=average(10,20)\n",
    "print('The average is', result)"
   ]
  },
  {
   "cell_type": "code",
   "execution_count": 14,
   "metadata": {},
   "outputs": [
    {
     "name": "stdout",
     "output_type": "stream",
     "text": [
      "Name: Alice\n",
      "Age: 20\n",
      "Address: 123 Main St\n",
      "Name: Bob\n",
      "Age: 30\n",
      "Address: 456 Elm St\n",
      "Name: Charlie\n",
      "Age: 40\n",
      "Address: 789 Oak St\n"
     ]
    }
   ],
   "source": [
    "def info(name, age, address):\n",
    "    print('Name:', name)\n",
    "    print('Age:', age)\n",
    "    print('Address:', address)\n",
    "\n",
    "info('Alice', 20, '123 Main St')\n",
    "info('Bob', 30, '456 Elm St')\n",
    "info('Charlie', 40, '789 Oak St')"
   ]
  },
  {
   "cell_type": "code",
   "execution_count": 15,
   "metadata": {},
   "outputs": [
    {
     "name": "stdout",
     "output_type": "stream",
     "text": [
      "Name: Alice\n",
      "Age: 20\n",
      "Address: 123 Main St\n"
     ]
    }
   ],
   "source": [
    "def address(name, age, address):\n",
    "    print('Name:', name)\n",
    "    print('Age:', age)\n",
    "    print('Address:', address)\n",
    "\n",
    "address(age=20, name='Alice', address='123 Main St') #keyword arguments"
   ]
  },
  {
   "cell_type": "code",
   "execution_count": 16,
   "metadata": {},
   "outputs": [
    {
     "name": "stdout",
     "output_type": "stream",
     "text": [
      "Name: Alice\n",
      "Age: 0\n",
      "Address: 123 Main St\n",
      "\n",
      "\n",
      "Name: Bob\n",
      "Age: 20\n",
      "Address: 456 Elm St\n"
     ]
    }
   ],
   "source": [
    "def register_person(name,address,age=0): #default parameter\n",
    "    print('Name:', name)\n",
    "    print('Age:', age)\n",
    "    print('Address:', address)\n",
    "\n",
    "register_person('Alice', '123 Main St')\n",
    "print('\\n')\n",
    "register_person('Bob', '456 Elm St', 20)\n",
    "# register_person('Charlie', '789 Oak St', 0)\n"
   ]
  },
  {
   "cell_type": "code",
   "execution_count": 17,
   "metadata": {},
   "outputs": [
    {
     "name": "stdout",
     "output_type": "stream",
     "text": [
      "10\n",
      "5\n"
     ]
    }
   ],
   "source": [
    "def test():#local scope\n",
    "    x=10 \n",
    "    print(x)\n",
    "\n",
    "#main program (global scope)\n",
    "test()\n",
    "print(x)"
   ]
  },
  {
   "cell_type": "code",
   "execution_count": 18,
   "metadata": {},
   "outputs": [
    {
     "name": "stdout",
     "output_type": "stream",
     "text": [
      "5\n",
      "done\n",
      "10\n"
     ]
    }
   ],
   "source": [
    "def test2():\n",
    "    # global x\n",
    "    x=5 #local variable\n",
    "    print(x)\n",
    "    print('done')\n",
    "\n",
    "\n",
    "\n",
    "#main program\n",
    "x=10 #global variable\n",
    "test2()\n",
    "\n",
    "print(x)"
   ]
  },
  {
   "cell_type": "code",
   "execution_count": 19,
   "metadata": {},
   "outputs": [
    {
     "name": "stdout",
     "output_type": "stream",
     "text": [
      "The result is 8\n"
     ]
    }
   ],
   "source": [
    "def calculator(num1,num2,operator):\n",
    "    if operator=='+':\n",
    "        return num1+num2\n",
    "    elif operator=='-':\n",
    "        return num1-num2\n",
    "    elif operator=='*':\n",
    "        return num1*num2\n",
    "    elif operator=='/':\n",
    "        return num1/num2\n",
    "    else:\n",
    "        return 'Invalid operator'\n",
    "    \n",
    "#main program\n",
    "result=calculator(5,3,'+')\n",
    "print('The result is', result)\n"
   ]
  },
  {
   "cell_type": "code",
   "execution_count": 20,
   "metadata": {},
   "outputs": [
    {
     "name": "stdout",
     "output_type": "stream",
     "text": [
      "Alice\n",
      "Bob\n",
      "Charlie\n"
     ]
    }
   ],
   "source": [
    "def read_names(names):\n",
    "    for name in names:\n",
    "        print(name)\n",
    "\n",
    "names=['Alice','Bob','Charlie']\n",
    "read_names(names)"
   ]
  },
  {
   "cell_type": "code",
   "execution_count": 27,
   "metadata": {},
   "outputs": [
    {
     "name": "stdout",
     "output_type": "stream",
     "text": [
      "['Alice', 'Bob', 'Charlie', 'David']\n"
     ]
    }
   ],
   "source": [
    "def add_name(new_names,name):\n",
    "    new_names.append(name)\n",
    "   \n",
    "#main program\n",
    "names=['Alice','Bob','Charlie']\n",
    "add_name(names,'David')\n",
    "\n",
    "print(names)"
   ]
  },
  {
   "cell_type": "code",
   "execution_count": null,
   "metadata": {},
   "outputs": [
    {
     "name": "stdout",
     "output_type": "stream",
     "text": [
      "Original value: 0\n",
      "Inside function: 99\n",
      "After function call: 0\n"
     ]
    }
   ],
   "source": [
    "def update_val(x):\n",
    "    x=99\n",
    "    print('Inside function:', x)\n",
    "\n",
    "#main program\n",
    "a=0\n",
    "print('Original value:', a)\n",
    "update_val(a)   \n",
    "\n",
    "print('After function call:', a)"
   ]
  },
  {
   "cell_type": "code",
   "execution_count": null,
   "metadata": {},
   "outputs": [
    {
     "name": "stdout",
     "output_type": "stream",
     "text": [
      "8\n",
      "30\n"
     ]
    }
   ],
   "source": [
    "#lambda function\n",
    "\n",
    "# lambda x: x+1\n",
    "\n",
    "add=lambda num1,num2: num1+num2\n",
    "\n",
    "\n",
    "print(add(5,3))\n",
    "print(add(10,20))\n",
    "\n",
    "\n"
   ]
  },
  {
   "cell_type": "code",
   "execution_count": 30,
   "metadata": {},
   "outputs": [
    {
     "name": "stdout",
     "output_type": "stream",
     "text": [
      "[1, 4, 9, 16, 25]\n"
     ]
    }
   ],
   "source": [
    "square=lambda x: x*x\n",
    "\n",
    "nums=[1,2,3,4,5]\n",
    "\n",
    "squares=list(map(square,nums))\n",
    "print(squares)"
   ]
  },
  {
   "cell_type": "code",
   "execution_count": 31,
   "metadata": {},
   "outputs": [
    {
     "name": "stdout",
     "output_type": "stream",
     "text": [
      "[2, 4, 6, 8, 10]\n"
     ]
    }
   ],
   "source": [
    "even= lambda x: x%2==0\n",
    "\n",
    "nums=[1,2,3,4,5,6,7,8,9,10]\n",
    "\n",
    "evens=list(filter(even,nums))\n",
    "print(evens)"
   ]
  }
 ],
 "metadata": {
  "kernelspec": {
   "display_name": "Python 3",
   "language": "python",
   "name": "python3"
  },
  "language_info": {
   "codemirror_mode": {
    "name": "ipython",
    "version": 3
   },
   "file_extension": ".py",
   "mimetype": "text/x-python",
   "name": "python",
   "nbconvert_exporter": "python",
   "pygments_lexer": "ipython3",
   "version": "3.10.2"
  }
 },
 "nbformat": 4,
 "nbformat_minor": 2
}
