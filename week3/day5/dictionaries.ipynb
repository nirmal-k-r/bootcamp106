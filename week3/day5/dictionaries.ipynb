{
 "cells": [
  {
   "cell_type": "code",
   "execution_count": 101,
   "metadata": {},
   "outputs": [
    {
     "name": "stdout",
     "output_type": "stream",
     "text": [
      "{'name': 'John Doe', 'age': 25, 'is_employee': True, 'salary': 1000.5, 'address': {'street': '123 Main St', 'city': 'Springfield', 'state': 'IL', 'zip': '62701'}, 'skills': ['Python', 'Java', 'C++'], 'children': ('Paul', 'Sara')}\n"
     ]
    }
   ],
   "source": [
    "person={\n",
    "    'name': 'John Doe',\n",
    "    'age': 25,\n",
    "    'is_employee': True,\n",
    "    'salary': 1000.50,\n",
    "    'address': {\n",
    "        'street': '123 Main St',\n",
    "        'city': 'Springfield',\n",
    "        'state': 'IL',\n",
    "        'zip': '62701'\n",
    "    },\n",
    "    'skills': ['Python', 'Java', 'C++'],\n",
    "    'children': ('Paul', 'Sara')\n",
    "}\n",
    "\n",
    "print(person)"
   ]
  },
  {
   "cell_type": "code",
   "execution_count": 102,
   "metadata": {},
   "outputs": [
    {
     "name": "stdout",
     "output_type": "stream",
     "text": [
      "John Doe\n",
      "['Python', 'Java', 'C++']\n",
      "Python\n",
      "{'street': '123 Main St', 'city': 'Springfield', 'state': 'IL', 'zip': '62701'}\n",
      "Springfield\n"
     ]
    }
   ],
   "source": [
    "print(person['name'])\n",
    "print(person['skills'])\n",
    "print(person['skills'][0])\n",
    "\n",
    "print(person['address'])\n",
    "print(person['address']['city'])"
   ]
  },
  {
   "cell_type": "code",
   "execution_count": 103,
   "metadata": {},
   "outputs": [
    {
     "name": "stdout",
     "output_type": "stream",
     "text": [
      "{}\n",
      "{'name': 'Python Programming', 'author': 'John Doe', 'price': 19.99, 'duration': 12, 'modules': ['Basics', 'Advanced', 'Expert']}\n"
     ]
    }
   ],
   "source": [
    "course={} #empty dictionary\n",
    "\n",
    "print(course)\n",
    "\n",
    "course['name']='Python Programming' #add key-value pair\n",
    "course['author']='John Doe'\n",
    "course['price']=19.99\n",
    "course['duration']=12\n",
    "course['modules']=['Basics', 'Advanced', 'Expert']\n",
    "\n",
    "print(course)\n"
   ]
  },
  {
   "cell_type": "code",
   "execution_count": 104,
   "metadata": {},
   "outputs": [
    {
     "name": "stdout",
     "output_type": "stream",
     "text": [
      "{'name': 'Python Programming for Beginners', 'author': 'John Doe', 'price': 19.99, 'duration': 12, 'modules': ['Basics', 'Advanced', 'Expert']}\n"
     ]
    }
   ],
   "source": [
    "course['name']='Python Programming for Beginners' #update a key value pair\n",
    "print(course)"
   ]
  },
  {
   "cell_type": "code",
   "execution_count": 105,
   "metadata": {},
   "outputs": [
    {
     "name": "stdout",
     "output_type": "stream",
     "text": [
      "{'name': 'Python Programming for Beginners', 'price': 19.99, 'duration': 12, 'modules': ['Basics', 'Advanced', 'Expert']}\n"
     ]
    }
   ],
   "source": [
    "del course['author'] #delete a key-value pair\n",
    "print(course)"
   ]
  },
  {
   "cell_type": "code",
   "execution_count": 106,
   "metadata": {},
   "outputs": [
    {
     "name": "stdout",
     "output_type": "stream",
     "text": [
      "dict_keys(['name', 'manufacturer', 'price'])\n",
      "dict_values(['iPhone 12', 'Apple', 999.99])\n"
     ]
    }
   ],
   "source": [
    "device={\n",
    "    'name': 'iPhone 12',\n",
    "    'manufacturer': 'Apple',\n",
    "    'price': 999.99\n",
    "}\n",
    "\n",
    "print(device.keys())\n",
    "\n",
    "print(device.values())"
   ]
  },
  {
   "cell_type": "code",
   "execution_count": 107,
   "metadata": {},
   "outputs": [
    {
     "name": "stdout",
     "output_type": "stream",
     "text": [
      "dict_items([('name', 'iPhone 12'), ('manufacturer', 'Apple'), ('price', 999.99)])\n"
     ]
    }
   ],
   "source": [
    "print(device.items())"
   ]
  },
  {
   "cell_type": "code",
   "execution_count": 108,
   "metadata": {},
   "outputs": [],
   "source": [
    "# print(device['color']) #error"
   ]
  },
  {
   "cell_type": "code",
   "execution_count": 109,
   "metadata": {},
   "outputs": [
    {
     "name": "stdout",
     "output_type": "stream",
     "text": [
      "None\n",
      "No data\n",
      "iPhone 12\n"
     ]
    }
   ],
   "source": [
    "print(device.get('color')) #None\n",
    "\n",
    "print(device.get('color','No data')) #No data\n",
    "\n",
    "print(device.get('name','No data')) #exists"
   ]
  },
  {
   "cell_type": "code",
   "execution_count": 110,
   "metadata": {},
   "outputs": [
    {
     "name": "stdout",
     "output_type": "stream",
     "text": [
      "[{'name': 'John Doe', 'age': 25}, {'name': 'Jane Doe', 'age': 22}, {'name': 'Tom Smith', 'age': 32}]\n",
      "{'name': 'Jane Doe', 'age': 22}\n",
      "Jane Doe\n"
     ]
    }
   ],
   "source": [
    "persons=[ #list of dictionaries\n",
    "    {\n",
    "        'name': 'John Doe',\n",
    "        'age': 25\n",
    "    },\n",
    "    {\n",
    "        'name': 'Jane Doe',\n",
    "        'age': 22\n",
    "    },\n",
    "    {\n",
    "        'name': 'Tom Smith',\n",
    "        'age': 32\n",
    "    }\n",
    "]\n",
    "\n",
    "print(persons)\n",
    "\n",
    "print(persons[1])\n",
    "print(persons[1]['name'])"
   ]
  },
  {
   "cell_type": "code",
   "execution_count": 111,
   "metadata": {},
   "outputs": [
    {
     "name": "stdout",
     "output_type": "stream",
     "text": [
      "Age is present\n",
      "25\n"
     ]
    }
   ],
   "source": [
    "person={\n",
    "    'name': 'John Doe',\n",
    "    'age': 25,\n",
    "    'is_employee': True,\n",
    "    'salary': 1000.50,\n",
    "    'address': {\n",
    "        'street': '123 Main St',\n",
    "        'city': 'Springfield',\n",
    "        'state': 'IL',\n",
    "        'zip': '62701'\n",
    "    },\n",
    "    'skills': ['Python', 'Java', 'C++'],\n",
    "    'children': ('Paul', 'Sara')\n",
    "}\n",
    "\n",
    "if 'age' in person: #check if key exists\n",
    "    print('Age is present')\n",
    "    print(person['age'])"
   ]
  },
  {
   "cell_type": "code",
   "execution_count": 112,
   "metadata": {},
   "outputs": [],
   "source": [
    "individual={\n",
    "    'name': 'John Doe',\n",
    "    'age': 25,\n",
    "    'is_employee': True,\n",
    "    'salary': 1000.50,\n",
    "    'address': 'Morc Anglais, Mauritius'\n",
    "}"
   ]
  },
  {
   "cell_type": "code",
   "execution_count": 113,
   "metadata": {},
   "outputs": [
    {
     "name": "stdout",
     "output_type": "stream",
     "text": [
      "name\n",
      "age\n",
      "is_employee\n",
      "salary\n",
      "address\n"
     ]
    }
   ],
   "source": [
    "for key in individual.keys(): #iterate over keys\n",
    "    print(key)"
   ]
  },
  {
   "cell_type": "code",
   "execution_count": 114,
   "metadata": {},
   "outputs": [
    {
     "name": "stdout",
     "output_type": "stream",
     "text": [
      "John Doe\n",
      "25\n",
      "True\n",
      "1000.5\n",
      "Morc Anglais, Mauritius\n"
     ]
    }
   ],
   "source": [
    "for value in individual.values(): #iterate over values\n",
    "    print(value)"
   ]
  },
  {
   "cell_type": "code",
   "execution_count": 115,
   "metadata": {},
   "outputs": [
    {
     "name": "stdout",
     "output_type": "stream",
     "text": [
      "Key: name \t Value: John Doe\n",
      "Key: age \t Value: 25\n",
      "Key: is_employee \t Value: True\n",
      "Key: salary \t Value: 1000.5\n",
      "Key: address \t Value: Morc Anglais, Mauritius\n"
     ]
    }
   ],
   "source": [
    "for key in individual: #iterate over keys\n",
    "    print(f'Key: {key} \\t Value: {individual[key]}')"
   ]
  },
  {
   "cell_type": "code",
   "execution_count": 116,
   "metadata": {},
   "outputs": [
    {
     "name": "stdout",
     "output_type": "stream",
     "text": [
      "Key: name \t Value: John Doe\n",
      "Key: age \t Value: 25\n",
      "Key: is_employee \t Value: True\n",
      "Key: salary \t Value: 1000.5\n",
      "Key: address \t Value: Morc Anglais, Mauritius\n"
     ]
    }
   ],
   "source": [
    "for key,value in individual.items(): #iterate over keys\n",
    "    print(f'Key: {key} \\t Value: {value}')"
   ]
  },
  {
   "cell_type": "code",
   "execution_count": 117,
   "metadata": {},
   "outputs": [
    {
     "name": "stdout",
     "output_type": "stream",
     "text": [
      "[1, 2, 3, 4, 5]\n"
     ]
    }
   ],
   "source": [
    "nums=list(range(1,6))\n",
    "\n",
    "print(nums)"
   ]
  },
  {
   "cell_type": "code",
   "execution_count": 118,
   "metadata": {},
   "outputs": [
    {
     "name": "stdout",
     "output_type": "stream",
     "text": [
      "0: John\n",
      "1: Jane\n",
      "2: Tom\n",
      "3: Alice\n"
     ]
    }
   ],
   "source": [
    "names=['John', 'Jane', 'Tom', 'Alice']\n",
    "\n",
    "i=0\n",
    "for name in names:\n",
    "    print(f'{i}: {name}')\n",
    "    i=i+1"
   ]
  },
  {
   "cell_type": "code",
   "execution_count": 119,
   "metadata": {},
   "outputs": [
    {
     "name": "stdout",
     "output_type": "stream",
     "text": [
      "0: John\n",
      "1: Jane\n",
      "2: Tom\n",
      "3: Alice\n"
     ]
    }
   ],
   "source": [
    "names=['John', 'Jane', 'Tom', 'Alice']\n",
    "\n",
    "for i,name in enumerate(names):\n",
    "    print(f'{i}: {name}')"
   ]
  },
  {
   "cell_type": "code",
   "execution_count": null,
   "metadata": {},
   "outputs": [
    {
     "name": "stdout",
     "output_type": "stream",
     "text": [
      "<zip object at 0x1079cd400>\n",
      "[('John', 25, 80), ('Jane', 22, 75), ('Tom', 32, 90), ('Alice', 28, 85)]\n"
     ]
    }
   ],
   "source": [
    "names=['John', 'Jane', 'Tom', 'Alice']\n",
    "ages=[25, 22, 32, 28]\n",
    "marks=[80, 75, 90, 85]\n",
    "\n",
    "students=zip(names, ages, marks)\n",
    "# print(students)\n",
    "# print(list(students))\n",
    "\n",
    "for name, age,mark in students:\n",
    "    print(f'{name} is {age} years old and scored {mark}')"
   ]
  },
  {
   "cell_type": "code",
   "execution_count": 125,
   "metadata": {},
   "outputs": [
    {
     "name": "stdout",
     "output_type": "stream",
     "text": [
      "0\n",
      "1\n",
      "2\n",
      "3\n",
      "4\n",
      "The for loop is over\n",
      "next operation\n"
     ]
    }
   ],
   "source": [
    "for i in range(0,5):\n",
    "    print(i)\n",
    "else:\n",
    "    print('The for loop is over')\n",
    "\n",
    "print('next operation')"
   ]
  },
  {
   "cell_type": "code",
   "execution_count": 126,
   "metadata": {},
   "outputs": [
    {
     "name": "stdout",
     "output_type": "stream",
     "text": [
      "5\n",
      "4\n",
      "3\n",
      "2\n",
      "1\n",
      "0\n",
      "The while loop is over\n",
      "next operation\n"
     ]
    }
   ],
   "source": [
    "i=5\n",
    "while i>=0:\n",
    "    print(i)\n",
    "    i=i-1   \n",
    "else:\n",
    "    print('The while loop is over')\n",
    "\n",
    "print('next operation')"
   ]
  },
  {
   "cell_type": "code",
   "execution_count": null,
   "metadata": {},
   "outputs": [
    {
     "name": "stdout",
     "output_type": "stream",
     "text": [
      "0\n",
      "1\n",
      "2\n",
      "3\n",
      "4\n"
     ]
    }
   ],
   "source": [
    "for i in range(10):\n",
    "    if i==5:\n",
    "        break\n",
    "\n",
    "    print(i)"
   ]
  },
  {
   "cell_type": "code",
   "execution_count": 132,
   "metadata": {},
   "outputs": [
    {
     "name": "stdout",
     "output_type": "stream",
     "text": [
      "0\n",
      "1\n",
      "2\n",
      "3\n",
      "4\n",
      "6\n",
      "7\n",
      "8\n",
      "9\n"
     ]
    }
   ],
   "source": [
    "for i in range(10):\n",
    "    if i==5:\n",
    "        continue\n",
    "\n",
    "    print(i)"
   ]
  },
  {
   "cell_type": "code",
   "execution_count": 134,
   "metadata": {},
   "outputs": [
    {
     "name": "stdout",
     "output_type": "stream",
     "text": [
      "next operation\n"
     ]
    }
   ],
   "source": [
    "for i in range(10):\n",
    "    pass #placeholder for future code\n",
    "\n",
    "print('next operation')"
   ]
  },
  {
   "cell_type": "code",
   "execution_count": 135,
   "metadata": {},
   "outputs": [
    {
     "name": "stdout",
     "output_type": "stream",
     "text": [
      "[0, 1, 2, 3, 4, 5, 6, 7, 8, 9]\n"
     ]
    }
   ],
   "source": [
    "nums=[]\n",
    "for i in range(10):\n",
    "    nums.append(i)\n",
    "\n",
    "print(nums)"
   ]
  },
  {
   "cell_type": "code",
   "execution_count": 137,
   "metadata": {},
   "outputs": [
    {
     "name": "stdout",
     "output_type": "stream",
     "text": [
      "[0, 1, 2, 3, 4, 5, 6, 7, 8, 9]\n"
     ]
    }
   ],
   "source": [
    "nums=[i for i in range(10)]\n",
    "print(nums)"
   ]
  },
  {
   "cell_type": "code",
   "execution_count": 138,
   "metadata": {},
   "outputs": [
    {
     "name": "stdout",
     "output_type": "stream",
     "text": [
      "[0, 2, 4, 6, 8]\n"
     ]
    }
   ],
   "source": [
    "evens=[i for i in range(10) if i%2==0]\n",
    "print(evens)"
   ]
  },
  {
   "cell_type": "code",
   "execution_count": 139,
   "metadata": {},
   "outputs": [
    {
     "name": "stdout",
     "output_type": "stream",
     "text": [
      "['0', '2', '4', '6', '8']\n"
     ]
    }
   ],
   "source": [
    "evens=[str(i) for i in range(10) if i%2==0]\n",
    "print(evens)"
   ]
  },
  {
   "cell_type": "code",
   "execution_count": 140,
   "metadata": {},
   "outputs": [
    {
     "name": "stdout",
     "output_type": "stream",
     "text": [
      "[0, 4, 8, 12, 16]\n"
     ]
    }
   ],
   "source": [
    "evens=[i*2 for i in range(10) if i%2==0]\n",
    "print(evens)"
   ]
  },
  {
   "cell_type": "code",
   "execution_count": 141,
   "metadata": {},
   "outputs": [
    {
     "name": "stdout",
     "output_type": "stream",
     "text": [
      "{'Tom': 21, 'Jane': 23, 'John': 26}\n"
     ]
    }
   ],
   "source": [
    "persons={\n",
    "    'Tom': 20,\n",
    "    'Jane': 22,\n",
    "    'John': 25\n",
    "}\n",
    "\n",
    "for person in persons:\n",
    "    persons[person]+=1\n",
    "\n",
    "print(persons)"
   ]
  },
  {
   "cell_type": "code",
   "execution_count": null,
   "metadata": {},
   "outputs": [
    {
     "name": "stdout",
     "output_type": "stream",
     "text": [
      "{'Tom': 21, 'Jane': 23, 'John': 26}\n"
     ]
    }
   ],
   "source": [
    "persons={\n",
    "    'Tom': 20,\n",
    "    'Jane': 22,\n",
    "    'John': 25\n",
    "}\n",
    "g\n",
    "persons={person: persons[person]+1 for person in persons}\n",
    "print(persons)"
   ]
  }
 ],
 "metadata": {
  "kernelspec": {
   "display_name": "Python 3",
   "language": "python",
   "name": "python3"
  },
  "language_info": {
   "codemirror_mode": {
    "name": "ipython",
    "version": 3
   },
   "file_extension": ".py",
   "mimetype": "text/x-python",
   "name": "python",
   "nbconvert_exporter": "python",
   "pygments_lexer": "ipython3",
   "version": "3.10.2"
  }
 },
 "nbformat": 4,
 "nbformat_minor": 2
}
