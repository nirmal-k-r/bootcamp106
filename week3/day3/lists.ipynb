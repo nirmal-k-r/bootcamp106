{
 "cells": [
  {
   "cell_type": "code",
   "execution_count": 5,
   "metadata": {},
   "outputs": [
    {
     "name": "stdout",
     "output_type": "stream",
     "text": [
      "1\n",
      "Odd\n"
     ]
    }
   ],
   "source": [
    "num=int(input('Enter a number: '))\n",
    "# num=int(num)\n",
    "# print(num)\n",
    "\n",
    "#4/2=2 + 0 as remainer\n",
    "#5/2=2 + 1 as remainer\n",
    "\n",
    "#56/2=28 + 0 as remainer\n",
    "#23/2=11 + 1 as remainer\n",
    "\n",
    "remainer=num%2\n",
    "print(remainer)\n",
    "\n",
    "if remainer==0:\n",
    "    print('Even')\n",
    "else:\n",
    "    print('Odd')"
   ]
  },
  {
   "cell_type": "code",
   "execution_count": 8,
   "metadata": {},
   "outputs": [
    {
     "name": "stdout",
     "output_type": "stream",
     "text": [
      "Total: 88\n"
     ]
    }
   ],
   "source": [
    "marks=10\n",
    "marks2=20   \n",
    "marks3=18\n",
    "marks4=15\n",
    "marks5=25\n",
    "\n",
    "total=marks+marks2+marks3+marks4+marks5\n",
    "avg=total/5\n",
    "print('Total:',total)"
   ]
  },
  {
   "cell_type": "code",
   "execution_count": null,
   "metadata": {},
   "outputs": [],
   "source": [
    "#advanced data structures\n",
    "#tuples\n",
    "#sets\n",
    "#lists\n",
    "#dictionaries"
   ]
  },
  {
   "cell_type": "code",
   "execution_count": 11,
   "metadata": {},
   "outputs": [
    {
     "name": "stdout",
     "output_type": "stream",
     "text": [
      "[]\n",
      "[10, 20, 30, 40, 50]\n"
     ]
    }
   ],
   "source": [
    "#lists\n",
    "\n",
    "marks=[] #empty list\n",
    "print(marks)\n",
    "\n",
    "marks=[10,20,30,40,50]\n",
    "\n",
    "print(marks)"
   ]
  },
  {
   "cell_type": "code",
   "execution_count": null,
   "metadata": {},
   "outputs": [
    {
     "name": "stdout",
     "output_type": "stream",
     "text": [
      "[10, 20, 'Tom', True, 100.5]\n"
     ]
    }
   ],
   "source": [
    "names=[10,20,\"Tom\",True,100.50] #lists are dynamic in nature\n",
    "print(names)"
   ]
  },
  {
   "cell_type": "code",
   "execution_count": 16,
   "metadata": {},
   "outputs": [
    {
     "name": "stdout",
     "output_type": "stream",
     "text": [
      "['Tom', 'Jerry', 'Spike', 'Tyke']\n",
      "Tom\n",
      "Spike\n",
      "Tyke\n"
     ]
    }
   ],
   "source": [
    "names=['Tom','Jerry','Spike','Tyke']\n",
    "print(names)\n",
    "\n",
    "print(names[0])\n",
    "\n",
    "print(names[2])\n",
    "\n",
    "print(names[3])\n"
   ]
  },
  {
   "cell_type": "code",
   "execution_count": 17,
   "metadata": {},
   "outputs": [
    {
     "name": "stdout",
     "output_type": "stream",
     "text": [
      "4\n"
     ]
    }
   ],
   "source": [
    "names=['Tom','Jerry','Spike','Tyke']\n",
    "\n",
    "print(len(names))"
   ]
  },
  {
   "cell_type": "code",
   "execution_count": 19,
   "metadata": {},
   "outputs": [
    {
     "name": "stdout",
     "output_type": "stream",
     "text": [
      "Tyke\n",
      "Jerry\n",
      "Tom\n"
     ]
    }
   ],
   "source": [
    "names=['Tom','Jerry','Spike','Tyke'] #circular list\n",
    "print(names[-1])\n",
    "print(names[-3])\n",
    "print(names[-4])"
   ]
  },
  {
   "cell_type": "code",
   "execution_count": null,
   "metadata": {},
   "outputs": [
    {
     "name": "stdout",
     "output_type": "stream",
     "text": [
      "[]\n",
      "['Apple']\n",
      "['Apple', 'Banana', 'Mango', 'Orange', 'Grapes']\n"
     ]
    }
   ],
   "source": [
    "fruits=[] #defining empty list\n",
    "\n",
    "print(fruits)\n",
    "\n",
    "fruits.append('Apple')\n",
    "print(fruits)\n",
    "\n",
    "fruits.append('Banana') #add element to the list\n",
    "fruits.append('Mango')\n",
    "fruits.append('Orange')\n",
    "fruits.append('Grapes')\n",
    "\n",
    "print(fruits)"
   ]
  },
  {
   "cell_type": "code",
   "execution_count": 26,
   "metadata": {},
   "outputs": [
    {
     "name": "stdout",
     "output_type": "stream",
     "text": [
      "['Apple', 'Mango', 'Orange', 'Grapes']\n",
      "['Apple', 'Mango', 'Orange']\n",
      "Orange\n",
      "['Apple', 'Mango']\n"
     ]
    }
   ],
   "source": [
    "fruits=['Apple', 'Banana', 'Mango', 'Orange', 'Grapes']\n",
    "\n",
    "fruits.remove('Banana') #remove element from the list\n",
    "\n",
    "print(fruits)\n",
    "\n",
    "fruits.pop() #remove last element from the list\n",
    "print(fruits)\n",
    "\n",
    "removed_fruit=fruits.pop() #remove last element from the list and assign it to a variable\n",
    "print(removed_fruit)\n",
    "print(fruits)"
   ]
  },
  {
   "cell_type": "code",
   "execution_count": null,
   "metadata": {},
   "outputs": [
    {
     "name": "stdout",
     "output_type": "stream",
     "text": [
      "['Laptop', 'Mobile', 'Tablet', 'Desktop', 'Smartwatch']\n",
      "['Laptop', 'Mobile', 'Tablet', 'Computer', 'Smartwatch']\n"
     ]
    }
   ],
   "source": [
    "electronics=['Laptop','Mobile','Tablet','Desktop','Smartwatch']\n",
    "\n",
    "print(electronics)\n",
    "\n",
    "electronics[3]='Computer' #update element in the list\n",
    "print(electronics)"
   ]
  },
  {
   "cell_type": "code",
   "execution_count": 29,
   "metadata": {},
   "outputs": [
    {
     "name": "stdout",
     "output_type": "stream",
     "text": [
      "[10, 20, 30, 40, 50, 60, 70, 80, 90, 100]\n",
      "550\n"
     ]
    }
   ],
   "source": [
    "nums1=[10,20,30,40,50]\n",
    "nums2=[60,70,80,90,100]\n",
    "\n",
    "all_nums=nums1+nums2 #concatenate two lists\n",
    "print(all_nums)\n",
    "\n",
    "\n",
    "print(sum(all_nums)) #sum of all elements in the list"
   ]
  },
  {
   "cell_type": "code",
   "execution_count": null,
   "metadata": {},
   "outputs": [
    {
     "name": "stdout",
     "output_type": "stream",
     "text": [
      "34\n",
      "3\n",
      "[3, 16, 21, 29, 30, 34]\n"
     ]
    }
   ],
   "source": [
    "#list functions\n",
    "numbers=[3,30,21,16,34,29]\n",
    "\n",
    "print(max(numbers)) #maximum number in the list\n",
    "print(min(numbers)) #minimum number in the list\n",
    "print(sorted(numbers)) #sort the list"
   ]
  },
  {
   "cell_type": "code",
   "execution_count": null,
   "metadata": {},
   "outputs": [
    {
     "name": "stdout",
     "output_type": "stream",
     "text": [
      "['Dog', 'Cat', 'Parrot', 'Elephant', 'Lion', 'Tiger']\n"
     ]
    }
   ],
   "source": [
    "animals=['Dog','Cat','Elephant','Lion','Tiger']\n",
    "\n",
    "animals.insert(2,'Parrot') #insert element at a specific index\n",
    "print(animals)"
   ]
  },
  {
   "cell_type": "code",
   "execution_count": 36,
   "metadata": {},
   "outputs": [
    {
     "name": "stdout",
     "output_type": "stream",
     "text": [
      "A\n",
      "Tom\n",
      "o\n",
      "['T', 'o', 'm']\n"
     ]
    }
   ],
   "source": [
    "char='A'\n",
    "print(char)\n",
    "\n",
    "name='Tom'\n",
    "\n",
    "print(name)\n",
    "print(name[1])\n",
    "\n",
    "print(list(name))\n"
   ]
  },
  {
   "cell_type": "code",
   "execution_count": null,
   "metadata": {},
   "outputs": [
    {
     "name": "stdout",
     "output_type": "stream",
     "text": [
      "['Tom', 'Jerry', 'Spike']\n",
      "['Tom', 'Jerry', 'Spike']\n",
      "['Spike', 'Tyke']\n",
      "['Spike', 'Tyke']\n"
     ]
    }
   ],
   "source": [
    "#slicing\n",
    "\n",
    "names=['Tom','Jerry','Spike','Tyke']\n",
    "print(names[0:3])\n",
    "\n",
    "print(names[:3])\n",
    "\n",
    "\n",
    "print(names[2:4])\n",
    "\n",
    "print(names[-2:])\n",
    "print(names[:-2])"
   ]
  }
 ],
 "metadata": {
  "kernelspec": {
   "display_name": "Python 3",
   "language": "python",
   "name": "python3"
  },
  "language_info": {
   "codemirror_mode": {
    "name": "ipython",
    "version": 3
   },
   "file_extension": ".py",
   "mimetype": "text/x-python",
   "name": "python",
   "nbconvert_exporter": "python",
   "pygments_lexer": "ipython3",
   "version": "3.10.2"
  }
 },
 "nbformat": 4,
 "nbformat_minor": 2
}
