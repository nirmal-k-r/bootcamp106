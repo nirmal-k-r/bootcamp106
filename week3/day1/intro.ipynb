{
 "cells": [
  {
   "cell_type": "code",
   "execution_count": 138,
   "metadata": {},
   "outputs": [
    {
     "name": "stdout",
     "output_type": "stream",
     "text": [
      "Hello world\n",
      "hello\n",
      "TEST\n"
     ]
    }
   ],
   "source": [
    "print('Hello world')\n",
    "print('hello')\n",
    "print('TEST')"
   ]
  },
  {
   "cell_type": "code",
   "execution_count": null,
   "metadata": {},
   "outputs": [],
   "source": [
    "#this is a comment\n",
    "print('Hello world') #this is a comment"
   ]
  },
  {
   "cell_type": "code",
   "execution_count": null,
   "metadata": {},
   "outputs": [],
   "source": [
    "#variables\n",
    "name='Tom'\n",
    "print(name)\n",
    "\n",
    "age=20\n",
    "print(age)"
   ]
  },
  {
   "cell_type": "code",
   "execution_count": null,
   "metadata": {},
   "outputs": [],
   "source": [
    "#basic data type\n",
    "#string (text)\n",
    "#integer (number)\n",
    "#float (decimal number)\n",
    "#boolean (True or False)"
   ]
  },
  {
   "cell_type": "code",
   "execution_count": null,
   "metadata": {},
   "outputs": [],
   "source": [
    "#string\n",
    "name='Tom'\n",
    "character=\"T\"\n",
    "sentence='I am a student'\n",
    "password=\"ehfjew@@^&!*\""
   ]
  },
  {
   "cell_type": "code",
   "execution_count": null,
   "metadata": {},
   "outputs": [],
   "source": [
    "#int - whole number\n",
    "age=10\n",
    "year=2024\n",
    "counter=0\n",
    "value=-10"
   ]
  },
  {
   "cell_type": "code",
   "execution_count": null,
   "metadata": {},
   "outputs": [],
   "source": [
    "#float - decimal number\n",
    "price=9.99\n",
    "total=100.50\n",
    "mileage=100.45\n",
    "pi=3.141592"
   ]
  },
  {
   "cell_type": "code",
   "execution_count": 139,
   "metadata": {},
   "outputs": [],
   "source": [
    "#boolean\n",
    "is_student=True\n",
    "marroed=False"
   ]
  },
  {
   "cell_type": "code",
   "execution_count": 140,
   "metadata": {},
   "outputs": [
    {
     "name": "stdout",
     "output_type": "stream",
     "text": [
      "Tom\n",
      "paul\n"
     ]
    }
   ],
   "source": [
    "#variables\n",
    "name='Tom'\n",
    "print(name)\n",
    "\n",
    "name='paul'\n",
    "print(name)"
   ]
  },
  {
   "cell_type": "code",
   "execution_count": null,
   "metadata": {},
   "outputs": [],
   "source": [
    "#variabke namong conventions\n",
    "\n",
    "name='Tom' #good\n",
    "name2='Tom' #good\n",
    "# 2name='Tom' #bad\n",
    "na2me='Tom' #good\n",
    "\n",
    "# full name='Tom' #bad\n",
    "full_name='Tom' #good\n",
    "fullName='Tom' #good\n",
    "\n",
    "Name='Tom' #good and valid but not recommended"
   ]
  },
  {
   "cell_type": "code",
   "execution_count": null,
   "metadata": {},
   "outputs": [],
   "source": [
    "#operations\n",
    "num1=10\n",
    "num2=5\n",
    "\n",
    "result=num1+num2\n",
    "result2=num1-num2\n",
    "result3=num1*num2\n",
    "result4=num1/num2\n",
    "\n",
    "print(result)\n",
    "print(result2)\n",
    "print(result3)\n",
    "print(result4)"
   ]
  },
  {
   "cell_type": "code",
   "execution_count": null,
   "metadata": {},
   "outputs": [],
   "source": [
    "#comcatenating strings\n",
    "first_name='Tom'\n",
    "last_name='Smith'\n",
    "full_name=first_name+' '+last_name\n",
    "\n",
    "print(full_name)"
   ]
  },
  {
   "cell_type": "code",
   "execution_count": null,
   "metadata": {},
   "outputs": [],
   "source": [
    "data=2+2\n",
    "print(data)"
   ]
  },
  {
   "cell_type": "code",
   "execution_count": null,
   "metadata": {},
   "outputs": [],
   "source": [
    "type(data)"
   ]
  },
  {
   "cell_type": "code",
   "execution_count": null,
   "metadata": {},
   "outputs": [],
   "source": [
    "type(full_name)"
   ]
  },
  {
   "cell_type": "code",
   "execution_count": null,
   "metadata": {},
   "outputs": [],
   "source": [
    "sentence='I am a student'\n",
    "\n",
    "print(sentence.upper())\n",
    "\n",
    "print(sentence.lower())\n",
    "\n",
    "\n",
    "name='tom'\n",
    "print(name.capitalize())"
   ]
  },
  {
   "cell_type": "code",
   "execution_count": null,
   "metadata": {},
   "outputs": [],
   "source": [
    "10%3 #modulus gives the remainder"
   ]
  },
  {
   "cell_type": "code",
   "execution_count": null,
   "metadata": {},
   "outputs": [],
   "source": [
    "data='12'\n",
    "print(data)\n",
    "type(data)"
   ]
  },
  {
   "cell_type": "code",
   "execution_count": null,
   "metadata": {},
   "outputs": [],
   "source": [
    "age=10\n",
    "print(age)\n",
    "type(age)"
   ]
  },
  {
   "cell_type": "code",
   "execution_count": null,
   "metadata": {},
   "outputs": [],
   "source": [
    "data='100'\n",
    "data2=int(data)\n",
    "print(data2)\n",
    "type(data2)"
   ]
  },
  {
   "cell_type": "code",
   "execution_count": null,
   "metadata": {},
   "outputs": [],
   "source": [
    "#write a program to add 2 numbers\n",
    "num1=input('Enter first number: ')\n",
    "num2=input('Enter second number: ') \n",
    "\n",
    "#every input is a string\n",
    "\n",
    "result=int(num1)+int(num2)\n",
    "print(result)"
   ]
  },
  {
   "cell_type": "code",
   "execution_count": null,
   "metadata": {},
   "outputs": [],
   "source": [
    "name='Tom'\n",
    "age=10\n",
    "\n",
    "print('Name is ',name)\n",
    "print('Age is ',age)"
   ]
  },
  {
   "cell_type": "code",
   "execution_count": null,
   "metadata": {},
   "outputs": [],
   "source": [
    "print('Name is '+name+ ' and age is '+str(age))"
   ]
  },
  {
   "cell_type": "code",
   "execution_count": null,
   "metadata": {},
   "outputs": [],
   "source": [
    "name='Tom'\n",
    "age=10\n",
    "print('Name is {} and age is {}'.format(name,age))"
   ]
  },
  {
   "cell_type": "code",
   "execution_count": null,
   "metadata": {},
   "outputs": [],
   "source": [
    "name='Tom'\n",
    "age=10\n",
    "print(f'Name is {name} and age is {age}') #f-string"
   ]
  },
  {
   "cell_type": "code",
   "execution_count": null,
   "metadata": {},
   "outputs": [],
   "source": [
    "print(f'\\tName is {name} \\n\\tAge is {age}') #f-string"
   ]
  },
  {
   "cell_type": "code",
   "execution_count": null,
   "metadata": {},
   "outputs": [],
   "source": [
    "age=10\n",
    "age=age+1 #increment age\n",
    "print(age)"
   ]
  },
  {
   "cell_type": "code",
   "execution_count": null,
   "metadata": {},
   "outputs": [],
   "source": [
    "total=100\n",
    "total+=1 #increment by 1\n",
    "print(total)"
   ]
  },
  {
   "cell_type": "code",
   "execution_count": null,
   "metadata": {},
   "outputs": [],
   "source": [
    "print(\"test\"*4)"
   ]
  }
 ],
 "metadata": {
  "kernelspec": {
   "display_name": "Python 3",
   "language": "python",
   "name": "python3"
  },
  "language_info": {
   "codemirror_mode": {
    "name": "ipython",
    "version": 3
   },
   "file_extension": ".py",
   "mimetype": "text/x-python",
   "name": "python",
   "nbconvert_exporter": "python",
   "pygments_lexer": "ipython3",
   "version": "3.10.2"
  }
 },
 "nbformat": 4,
 "nbformat_minor": 2
}
