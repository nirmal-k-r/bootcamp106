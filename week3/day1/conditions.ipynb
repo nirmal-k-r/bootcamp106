{
 "cells": [
  {
   "cell_type": "code",
   "execution_count": 1,
   "metadata": {},
   "outputs": [],
   "source": [
    "married=False\n",
    "\n",
    "if (married==True):\n",
    "    print(\"You are married\")\n",
    "    print('Congratulations')   "
   ]
  },
  {
   "cell_type": "code",
   "execution_count": 2,
   "metadata": {},
   "outputs": [
    {
     "name": "stdout",
     "output_type": "stream",
     "text": [
      "You are married\n",
      "Congratulations\n"
     ]
    }
   ],
   "source": [
    "married=True\n",
    "\n",
    "if (married==True):\n",
    "    print(\"You are married\")\n",
    "    print('Congratulations') "
   ]
  },
  {
   "cell_type": "code",
   "execution_count": 4,
   "metadata": {},
   "outputs": [
    {
     "name": "stdout",
     "output_type": "stream",
     "text": [
      "You are married\n",
      "Congratulations\n",
      "Program ended\n"
     ]
    }
   ],
   "source": [
    "married=True\n",
    "\n",
    "if (married==True):\n",
    "    print(\"You are married\")\n",
    "    print('Congratulations') \n",
    "\n",
    "else:\n",
    "    print(\"You are not married\")\n",
    "    print('Sorry')\n",
    "\n",
    "print('Program ended')"
   ]
  },
  {
   "cell_type": "code",
   "execution_count": 7,
   "metadata": {},
   "outputs": [
    {
     "name": "stdout",
     "output_type": "stream",
     "text": [
      "Invalid\n",
      "Program ended\n"
     ]
    }
   ],
   "source": [
    "married=12\n",
    "\n",
    "if (married==True):\n",
    "    print(\"You are married\")\n",
    "    print('Congratulations') \n",
    "\n",
    "elif(married==False):\n",
    "    print(\"You are not married\")\n",
    "    print('Sorry')\n",
    "\n",
    "else:\n",
    "    print('Invalid')\n",
    "\n",
    "print('Program ended')"
   ]
  },
  {
   "cell_type": "code",
   "execution_count": null,
   "metadata": {},
   "outputs": [
    {
     "name": "stdout",
     "output_type": "stream",
     "text": [
      "error\n"
     ]
    }
   ],
   "source": [
    "try:\n",
    "    x=10/0\n",
    "except:\n",
    "    print('error')"
   ]
  },
  {
   "cell_type": "code",
   "execution_count": null,
   "metadata": {},
   "outputs": [
    {
     "name": "stdout",
     "output_type": "stream",
     "text": [
      "Target is 100\n"
     ]
    }
   ],
   "source": [
    "target=100\n",
    "\n",
    "if (target==100): #use == for comparison\n",
    "    print('Target is 100')"
   ]
  },
  {
   "cell_type": "code",
   "execution_count": 10,
   "metadata": {},
   "outputs": [
    {
     "name": "stdout",
     "output_type": "stream",
     "text": [
      "You are a child\n"
     ]
    }
   ],
   "source": [
    "age=10\n",
    "\n",
    "if (age>=18):\n",
    "    print('You are an adult')\n",
    "else:\n",
    "    print('You are a child')"
   ]
  },
  {
   "cell_type": "code",
   "execution_count": 13,
   "metadata": {},
   "outputs": [
    {
     "name": "stdout",
     "output_type": "stream",
     "text": [
      "You have 2% discount\n"
     ]
    }
   ],
   "source": [
    "total=2000\n",
    "\n",
    "if total>5000:\n",
    "    print('You have 10% discount')\n",
    "\n",
    "elif total>3000:\n",
    "    print('You have 5% discount')\n",
    "\n",
    "elif total>1000:\n",
    "    print('You have 2% discount')\n",
    "\n",
    "else:\n",
    "    print('You have no discount')\n"
   ]
  },
  {
   "cell_type": "code",
   "execution_count": null,
   "metadata": {},
   "outputs": [
    {
     "name": "stdout",
     "output_type": "stream",
     "text": [
      "turn on the AC\n"
     ]
    }
   ],
   "source": [
    "temp=31\n",
    "humidity=90\n",
    "\n",
    "if temp>30 and humidity>70:\n",
    "    print('turn on the AC')\n",
    "else:\n",
    "    print('turn off the AC')"
   ]
  },
  {
   "cell_type": "code",
   "execution_count": null,
   "metadata": {},
   "outputs": [],
   "source": [
    "value=100\n",
    "\n",
    "if value>=100:\n",
    "    print('Value is greater than or equal to 100')"
   ]
  },
  {
   "cell_type": "code",
   "execution_count": 21,
   "metadata": {},
   "outputs": [
    {
     "name": "stdout",
     "output_type": "stream",
     "text": [
      "You are not married\n"
     ]
    }
   ],
   "source": [
    "married=False\n",
    "if not married:\n",
    "    print('You are not married')"
   ]
  },
  {
   "cell_type": "code",
   "execution_count": null,
   "metadata": {},
   "outputs": [
    {
     "name": "stdout",
     "output_type": "stream",
     "text": [
      "Invalid password\n"
     ]
    }
   ],
   "source": [
    "password='123d4'\n",
    "\n",
    "if password!='1234': #not equal to\n",
    "    print('Invalid password')"
   ]
  }
 ],
 "metadata": {
  "kernelspec": {
   "display_name": "Python 3",
   "language": "python",
   "name": "python3"
  },
  "language_info": {
   "codemirror_mode": {
    "name": "ipython",
    "version": 3
   },
   "file_extension": ".py",
   "mimetype": "text/x-python",
   "name": "python",
   "nbconvert_exporter": "python",
   "pygments_lexer": "ipython3",
   "version": "3.10.2"
  }
 },
 "nbformat": 4,
 "nbformat_minor": 2
}
